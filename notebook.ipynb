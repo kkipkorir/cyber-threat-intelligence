{
 "cells": [
  {
   "cell_type": "markdown",
   "id": "47b9ff0d",
   "metadata": {},
   "source": [
    "# Text‑based Cyber Threat Detection\n",
    "\n",
    "#### Authors: Kelvin Kipkorir,Lucy Mutua,Charles Mutembei,Sharon Aoko, Victor\n",
    "\n",
    "[image]"
   ]
  },
  {
   "cell_type": "markdown",
   "id": "34146237",
   "metadata": {},
   "source": [
    "# Overview"
   ]
  },
  {
   "cell_type": "markdown",
   "id": "b1b8431c",
   "metadata": {},
   "source": [
    "# Problem Statement"
   ]
  },
  {
   "cell_type": "markdown",
   "id": "175d8a48",
   "metadata": {},
   "source": [
    "# Objectives\n",
    "\n",
    "The goal of this project is to build a machine learning model that can classify text data as either a cyber threat or not. We'll leverage NLP techniques and classification algorithms to detect potential threats from text-based data.\n"
   ]
  },
  {
   "cell_type": "markdown",
   "id": "77ab1d73",
   "metadata": {},
   "source": [
    "# Data Understanding"
   ]
  },
  {
   "cell_type": "code",
   "execution_count": 1,
   "id": "c3e988cc",
   "metadata": {},
   "outputs": [],
   "source": [
    "#import standard libraries\n",
    "import numpy as np\n",
    "import pandas as pd\n",
    "import seaborn as sns\n",
    "import matplotlib.pyplot as plt\n",
    "\n",
    "%matplotlib inline"
   ]
  },
  {
   "cell_type": "markdown",
   "id": "ddc1e773",
   "metadata": {},
   "source": [
    "Looking through the dataset"
   ]
  },
  {
   "cell_type": "code",
   "execution_count": 2,
   "id": "53c3c0ab",
   "metadata": {},
   "outputs": [
    {
     "data": {
      "text/html": [
       "<div>\n",
       "<style scoped>\n",
       "    .dataframe tbody tr th:only-of-type {\n",
       "        vertical-align: middle;\n",
       "    }\n",
       "\n",
       "    .dataframe tbody tr th {\n",
       "        vertical-align: top;\n",
       "    }\n",
       "\n",
       "    .dataframe thead th {\n",
       "        text-align: right;\n",
       "    }\n",
       "</style>\n",
       "<table border=\"1\" class=\"dataframe\">\n",
       "  <thead>\n",
       "    <tr style=\"text-align: right;\">\n",
       "      <th></th>\n",
       "      <th>Unnamed: 0</th>\n",
       "      <th>index</th>\n",
       "      <th>text</th>\n",
       "      <th>entities</th>\n",
       "      <th>relations</th>\n",
       "      <th>Comments</th>\n",
       "      <th>id</th>\n",
       "      <th>label</th>\n",
       "      <th>start_offset</th>\n",
       "      <th>end_offset</th>\n",
       "    </tr>\n",
       "  </thead>\n",
       "  <tbody>\n",
       "    <tr>\n",
       "      <th>0</th>\n",
       "      <td>0</td>\n",
       "      <td>1.0</td>\n",
       "      <td>This post is also available in:      日本語 (Japa...</td>\n",
       "      <td>[{'id': 45800, 'label': 'malware', 'start_offs...</td>\n",
       "      <td>[]</td>\n",
       "      <td>[]</td>\n",
       "      <td>45800.0</td>\n",
       "      <td>malware</td>\n",
       "      <td>288.0</td>\n",
       "      <td>300.0</td>\n",
       "    </tr>\n",
       "    <tr>\n",
       "      <th>1</th>\n",
       "      <td>1</td>\n",
       "      <td>2.0</td>\n",
       "      <td>The attack vector is very basic and repeats it...</td>\n",
       "      <td>[{'id': 48941, 'label': 'attack-pattern', 'sta...</td>\n",
       "      <td>[]</td>\n",
       "      <td>[]</td>\n",
       "      <td>48941.0</td>\n",
       "      <td>attack-pattern</td>\n",
       "      <td>69.0</td>\n",
       "      <td>115.0</td>\n",
       "    </tr>\n",
       "    <tr>\n",
       "      <th>2</th>\n",
       "      <td>2</td>\n",
       "      <td>3.0</td>\n",
       "      <td>Once executed by the user the first stage malw...</td>\n",
       "      <td>[]</td>\n",
       "      <td>[]</td>\n",
       "      <td>[]</td>\n",
       "      <td>NaN</td>\n",
       "      <td>NaN</td>\n",
       "      <td>NaN</td>\n",
       "      <td>NaN</td>\n",
       "    </tr>\n",
       "    <tr>\n",
       "      <th>3</th>\n",
       "      <td>3</td>\n",
       "      <td>4.0</td>\n",
       "      <td>The first known campaign was launched by Crim...</td>\n",
       "      <td>[{'id': 45806, 'label': 'TIME', 'start_offset'...</td>\n",
       "      <td>[]</td>\n",
       "      <td>[]</td>\n",
       "      <td>45806.0</td>\n",
       "      <td>TIME</td>\n",
       "      <td>55.0</td>\n",
       "      <td>68.0</td>\n",
       "    </tr>\n",
       "    <tr>\n",
       "      <th>4</th>\n",
       "      <td>4</td>\n",
       "      <td>5.0</td>\n",
       "      <td>The first stage downloaded the ransomware from...</td>\n",
       "      <td>[]</td>\n",
       "      <td>[]</td>\n",
       "      <td>[]</td>\n",
       "      <td>NaN</td>\n",
       "      <td>NaN</td>\n",
       "      <td>NaN</td>\n",
       "      <td>NaN</td>\n",
       "    </tr>\n",
       "    <tr>\n",
       "      <th>...</th>\n",
       "      <td>...</td>\n",
       "      <td>...</td>\n",
       "      <td>...</td>\n",
       "      <td>...</td>\n",
       "      <td>...</td>\n",
       "      <td>...</td>\n",
       "      <td>...</td>\n",
       "      <td>...</td>\n",
       "      <td>...</td>\n",
       "      <td>...</td>\n",
       "    </tr>\n",
       "    <tr>\n",
       "      <th>19935</th>\n",
       "      <td>5279</td>\n",
       "      <td>NaN</td>\n",
       "      <td>Cyclops Blink, an advanced modular botnet that...</td>\n",
       "      <td>NaN</td>\n",
       "      <td>NaN</td>\n",
       "      <td>NaN</td>\n",
       "      <td>NaN</td>\n",
       "      <td>malware</td>\n",
       "      <td>NaN</td>\n",
       "      <td>NaN</td>\n",
       "    </tr>\n",
       "    <tr>\n",
       "      <th>19936</th>\n",
       "      <td>1543</td>\n",
       "      <td>NaN</td>\n",
       "      <td>Sofacy Group has been associated with many at...</td>\n",
       "      <td>NaN</td>\n",
       "      <td>NaN</td>\n",
       "      <td>NaN</td>\n",
       "      <td>NaN</td>\n",
       "      <td>location</td>\n",
       "      <td>NaN</td>\n",
       "      <td>NaN</td>\n",
       "    </tr>\n",
       "    <tr>\n",
       "      <th>19937</th>\n",
       "      <td>13595</td>\n",
       "      <td>NaN</td>\n",
       "      <td>The plugin has been designed to drop multiple ...</td>\n",
       "      <td>NaN</td>\n",
       "      <td>NaN</td>\n",
       "      <td>NaN</td>\n",
       "      <td>NaN</td>\n",
       "      <td>Infrastucture</td>\n",
       "      <td>NaN</td>\n",
       "      <td>NaN</td>\n",
       "    </tr>\n",
       "    <tr>\n",
       "      <th>19938</th>\n",
       "      <td>2368</td>\n",
       "      <td>NaN</td>\n",
       "      <td>We have uncovered a cyberespionage campaign be...</td>\n",
       "      <td>NaN</td>\n",
       "      <td>NaN</td>\n",
       "      <td>NaN</td>\n",
       "      <td>NaN</td>\n",
       "      <td>threat-actor</td>\n",
       "      <td>NaN</td>\n",
       "      <td>NaN</td>\n",
       "    </tr>\n",
       "    <tr>\n",
       "      <th>19939</th>\n",
       "      <td>14267</td>\n",
       "      <td>NaN</td>\n",
       "      <td>Based on the analysis of samples that were las...</td>\n",
       "      <td>NaN</td>\n",
       "      <td>NaN</td>\n",
       "      <td>NaN</td>\n",
       "      <td>NaN</td>\n",
       "      <td>malware</td>\n",
       "      <td>NaN</td>\n",
       "      <td>NaN</td>\n",
       "    </tr>\n",
       "  </tbody>\n",
       "</table>\n",
       "<p>19940 rows × 10 columns</p>\n",
       "</div>"
      ],
      "text/plain": [
       "       Unnamed: 0  index                                               text  \\\n",
       "0               0    1.0  This post is also available in:      日本語 (Japa...   \n",
       "1               1    2.0  The attack vector is very basic and repeats it...   \n",
       "2               2    3.0  Once executed by the user the first stage malw...   \n",
       "3               3    4.0   The first known campaign was launched by Crim...   \n",
       "4               4    5.0  The first stage downloaded the ransomware from...   \n",
       "...           ...    ...                                                ...   \n",
       "19935        5279    NaN  Cyclops Blink, an advanced modular botnet that...   \n",
       "19936        1543    NaN   Sofacy Group has been associated with many at...   \n",
       "19937       13595    NaN  The plugin has been designed to drop multiple ...   \n",
       "19938        2368    NaN  We have uncovered a cyberespionage campaign be...   \n",
       "19939       14267    NaN  Based on the analysis of samples that were las...   \n",
       "\n",
       "                                                entities relations Comments  \\\n",
       "0      [{'id': 45800, 'label': 'malware', 'start_offs...        []       []   \n",
       "1      [{'id': 48941, 'label': 'attack-pattern', 'sta...        []       []   \n",
       "2                                                     []        []       []   \n",
       "3      [{'id': 45806, 'label': 'TIME', 'start_offset'...        []       []   \n",
       "4                                                     []        []       []   \n",
       "...                                                  ...       ...      ...   \n",
       "19935                                                NaN       NaN      NaN   \n",
       "19936                                                NaN       NaN      NaN   \n",
       "19937                                                NaN       NaN      NaN   \n",
       "19938                                                NaN       NaN      NaN   \n",
       "19939                                                NaN       NaN      NaN   \n",
       "\n",
       "            id           label  start_offset  end_offset  \n",
       "0      45800.0         malware         288.0       300.0  \n",
       "1      48941.0  attack-pattern          69.0       115.0  \n",
       "2          NaN             NaN           NaN         NaN  \n",
       "3      45806.0            TIME          55.0        68.0  \n",
       "4          NaN             NaN           NaN         NaN  \n",
       "...        ...             ...           ...         ...  \n",
       "19935      NaN         malware           NaN         NaN  \n",
       "19936      NaN        location           NaN         NaN  \n",
       "19937      NaN   Infrastucture           NaN         NaN  \n",
       "19938      NaN    threat-actor           NaN         NaN  \n",
       "19939      NaN         malware           NaN         NaN  \n",
       "\n",
       "[19940 rows x 10 columns]"
      ]
     },
     "execution_count": 2,
     "metadata": {},
     "output_type": "execute_result"
    }
   ],
   "source": [
    "df = pd.read_csv('cyber-threat-intelligence_all.csv')\n",
    "df"
   ]
  },
  {
   "cell_type": "markdown",
   "id": "e94acf01",
   "metadata": {},
   "source": [
    "The dataset has 19940 rows and 10 columns.We can see that the dataset has a lot of missing values. We can dig further looking at missing elements in each individual rows"
   ]
  },
  {
   "cell_type": "code",
   "execution_count": 3,
   "id": "4c616543",
   "metadata": {},
   "outputs": [
    {
     "name": "stdout",
     "output_type": "stream",
     "text": [
      "<class 'pandas.core.frame.DataFrame'>\n",
      "RangeIndex: 19940 entries, 0 to 19939\n",
      "Data columns (total 10 columns):\n",
      " #   Column        Non-Null Count  Dtype  \n",
      "---  ------        --------------  -----  \n",
      " 0   Unnamed: 0    19940 non-null  int64  \n",
      " 1   index         19464 non-null  float64\n",
      " 2   text          19940 non-null  object \n",
      " 3   entities      19464 non-null  object \n",
      " 4   relations     19464 non-null  object \n",
      " 5   Comments      19464 non-null  object \n",
      " 6   id            9462 non-null   float64\n",
      " 7   label         9938 non-null   object \n",
      " 8   start_offset  9462 non-null   float64\n",
      " 9   end_offset    9462 non-null   float64\n",
      "dtypes: float64(4), int64(1), object(5)\n",
      "memory usage: 1.5+ MB\n"
     ]
    }
   ],
   "source": [
    "# looking at the stats for each column\n",
    "df.info()"
   ]
  },
  {
   "cell_type": "code",
   "execution_count": 4,
   "id": "598ec299",
   "metadata": {},
   "outputs": [
    {
     "data": {
      "text/plain": [
       "malware           1911\n",
       "location          1405\n",
       "SOFTWARE          1229\n",
       "attack-pattern    1206\n",
       "identity          1165\n",
       "threat-actor       890\n",
       "TIME               475\n",
       "tools              391\n",
       "FILEPATH           313\n",
       "vulnerability      245\n",
       "SHA2               160\n",
       "campaign           128\n",
       "URL                127\n",
       "IPV4                61\n",
       "SHA1                60\n",
       "DOMAIN              50\n",
       "Infrastucture       43\n",
       "EMAIL               24\n",
       "REGISTRYKEY         19\n",
       "MD5                 16\n",
       "hash                14\n",
       "url                  6\n",
       "Name: label, dtype: int64"
      ]
     },
     "execution_count": 4,
     "metadata": {},
     "output_type": "execute_result"
    }
   ],
   "source": [
    "#looking at the available labels\n",
    "df['label'].value_counts()"
   ]
  },
  {
   "cell_type": "code",
   "execution_count": 5,
   "id": "632c22de",
   "metadata": {},
   "outputs": [
    {
     "data": {
      "image/png": "[encoded data removed]",
      "text/plain": [
       "<Figure size 432x288 with 1 Axes>"
      ]
     },
     "metadata": {
      "needs_background": "light"
     },
     "output_type": "display_data"
    }
   ],
   "source": [
    "#visualizing using a count plot\n",
    "plt.figure(figsize=(6, 4))\n",
    "sns.countplot(x='label', data=df, palette='Set2')\n",
    "plt.title('Distribution of Labels')\n",
    "plt.xlabel('Label') \n",
    "plt.ylabel('Count')\n",
    "plt.xticks(rotation=90)  \n",
    "plt.tight_layout()\n",
    "plt.show()\n"
   ]
  },
  {
   "cell_type": "markdown",
   "id": "d25ad2ff",
   "metadata": {},
   "source": [
    "### For our analysis the `text ` and `label` columns are the ones we are going to use which means that we will drop all other columns"
   ]
  },
  {
   "cell_type": "code",
   "execution_count": 6,
   "id": "d5ade185",
   "metadata": {},
   "outputs": [],
   "source": [
    "data = df['text']\n",
    "target = df['label']"
   ]
  },
  {
   "cell_type": "code",
   "execution_count": 7,
   "id": "250f0ca7",
   "metadata": {},
   "outputs": [
    {
     "data": {
      "text/plain": [
       "0    [{'id': 45800, 'label': 'malware', 'start_offs...\n",
       "1    [{'id': 48941, 'label': 'attack-pattern', 'sta...\n",
       "2                                                   []\n",
       "3    [{'id': 45806, 'label': 'TIME', 'start_offset'...\n",
       "4                                                   []\n",
       "Name: entities, dtype: object"
      ]
     },
     "execution_count": 7,
     "metadata": {},
     "output_type": "execute_result"
    }
   ],
   "source": [
    "df['entities'].head()"
   ]
  },
  {
   "cell_type": "markdown",
   "id": "7637455e",
   "metadata": {},
   "source": [
    "We noticed many missing values in the `label` column, so we extracted the first entity label from the `entities` JSON column to recover useful annotations. The new labels are stored in a separate column called `entity_label` for further analysis.\n"
   ]
  },
  {
   "cell_type": "code",
   "execution_count": 8,
   "id": "b872227f",
   "metadata": {},
   "outputs": [
    {
     "name": "stdout",
     "output_type": "stream",
     "text": [
      "malware           1770\n",
      "location          1382\n",
      "SOFTWARE          1204\n",
      "attack-pattern    1162\n",
      "identity          1128\n",
      "threat-actor       822\n",
      "TIME               458\n",
      "tools              372\n",
      "FILEPATH           298\n",
      "vulnerability      210\n",
      "SHA2               160\n",
      "URL                124\n",
      "campaign           108\n",
      "SHA1                60\n",
      "IPV4                60\n",
      "DOMAIN              50\n",
      "Infrastucture       36\n",
      "EMAIL               24\n",
      "REGISTRYKEY         18\n",
      "MD5                 16\n",
      "Name: entity_label, dtype: int64\n"
     ]
    }
   ],
   "source": [
    "import ast #useful in extracting components safely\n",
    "\n",
    "#  function to extract the 'label' from the 'entities' JSON string\n",
    "def extract_entity_label(entities):\n",
    "    try:\n",
    "        entity_list = ast.literal_eval(entities)  \n",
    "        if isinstance(entity_list, list) and len(entity_list) > 0:\n",
    "            return entity_list[0].get('label')  \n",
    "    except (ValueError, SyntaxError):\n",
    "        return None\n",
    "    return None\n",
    "\n",
    "#create a new column\n",
    "df['entity_label'] = df['entities'].apply(extract_entity_label)\n",
    "\n",
    "# Check distribution of extracted labels\n",
    "print(df['entity_label'].value_counts())"
   ]
  },
  {
   "cell_type": "code",
   "execution_count": 9,
   "id": "03558e51",
   "metadata": {},
   "outputs": [
    {
     "name": "stdout",
     "output_type": "stream",
     "text": [
      "<class 'pandas.core.frame.DataFrame'>\n",
      "RangeIndex: 19940 entries, 0 to 19939\n",
      "Data columns (total 11 columns):\n",
      " #   Column        Non-Null Count  Dtype  \n",
      "---  ------        --------------  -----  \n",
      " 0   Unnamed: 0    19940 non-null  int64  \n",
      " 1   index         19464 non-null  float64\n",
      " 2   text          19940 non-null  object \n",
      " 3   entities      19464 non-null  object \n",
      " 4   relations     19464 non-null  object \n",
      " 5   Comments      19464 non-null  object \n",
      " 6   id            9462 non-null   float64\n",
      " 7   label         9938 non-null   object \n",
      " 8   start_offset  9462 non-null   float64\n",
      " 9   end_offset    9462 non-null   float64\n",
      " 10  entity_label  9462 non-null   object \n",
      "dtypes: float64(4), int64(1), object(6)\n",
      "memory usage: 1.7+ MB\n"
     ]
    }
   ],
   "source": [
    "df.info()"
   ]
  },
  {
   "cell_type": "markdown",
   "id": "62efb434",
   "metadata": {},
   "source": [
    "## Preprocessing"
   ]
  },
  {
   "cell_type": "code",
   "execution_count": 10,
   "id": "030ff5b2",
   "metadata": {},
   "outputs": [],
   "source": [
    "import re\n",
    "from tensorflow.keras.preprocessing.text import Tokenizer\n",
    "from tensorflow.keras.preprocessing.sequence import pad_sequences\n",
    "\n",
    "# Clean the text\n",
    "def clean_text(text):\n",
    "    text = text.lower()\n",
    "    text = re.sub(r'[^a-z\\s]', '', text)  # remove non-alphabetic characters\n",
    "    return text\n",
    "\n",
    "df['clean_text'] = df['text'].astype(str).apply(clean_text)\n"
   ]
  },
  {
   "cell_type": "code",
   "execution_count": 12,
   "id": "8e23a58c",
   "metadata": {},
   "outputs": [
    {
     "data": {
      "text/plain": [
       "0        this post is also available in       japanese ...\n",
       "1        the attack vector is very basic and repeats it...\n",
       "2        once executed by the user the first stage malw...\n",
       "3         the first known campaign was launched by crim...\n",
       "4        the first stage downloaded the ransomware from...\n",
       "                               ...                        \n",
       "19935    cyclops blink an advanced modular botnet that ...\n",
       "19936     sofacy group has been associated with many at...\n",
       "19937    the plugin has been designed to drop multiple ...\n",
       "19938    we have uncovered a cyberespionage campaign be...\n",
       "19939    based on the analysis of samples that were las...\n",
       "Name: clean_text, Length: 19940, dtype: object"
      ]
     },
     "execution_count": 12,
     "metadata": {},
     "output_type": "execute_result"
    }
   ],
   "source": [
    "df['clean_text']"
   ]
  },
  {
   "cell_type": "code",
   "execution_count": null,
   "id": "c43fdbe3",
   "metadata": {},
   "outputs": [],
   "source": []
  }
 ],
 "metadata": {
  "kernelspec": {
   "display_name": "learn-env",
   "language": "python",
   "name": "python3"
  },
  "language_info": {
   "codemirror_mode": {
    "name": "ipython",
    "version": 3
   },
   "file_extension": ".py",
   "mimetype": "text/x-python",
   "name": "python",
   "nbconvert_exporter": "python",
   "pygments_lexer": "ipython3",
   "version": "3.8.5"
  }
 },
 "nbformat": 4,
 "nbformat_minor": 5
}
