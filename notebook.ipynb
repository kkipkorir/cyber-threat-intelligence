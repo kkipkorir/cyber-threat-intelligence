{
 "cells": [
  {
   "cell_type": "markdown",
   "metadata": {},
   "source": [
    "# Text‑based Cyber Threat Detection\n",
    "\n",
    "#### Authors: Kelvin Kipkorir,Lucy Mutua,Charles Mutembei,Sharon Aoko, Victor Musyoki\n"
   ]
  },
  {
   "cell_type": "markdown",
   "metadata": {},
   "source": [
    "# Overview\n",
    "\n",
    "Text-based cyber threats—such as phishing emails, malware-laced reports, and malicious communications—pose a growing challenge in the cybersecurity landscape. These threats often appear in unstructured text and require intelligent systems to detect and flag harmful intent. This project addresses that need by building a machine learning pipeline to classify cybersecurity-related text as either *malicious* or *benign*. Using a dataset of annotated threat intelligence reports, we preprocessed the raw text using NLP techniques like lemmatization, stopword removal, and tokenization. We then transformed the text into padded sequences suitable for deep learning. Several models were developed and evaluated—including a baseline neural network, a tuned version, and advanced RNN-based architectures. The final model was tested on real sample inputs, demonstrating its potential in supporting automated threat detection tools in real-world settings.\n"
   ]
  },
  {
   "cell_type": "markdown",
   "metadata": {},
   "source": [
    "# Problem Statement\n",
    "\n",
    "In the field of cybersecurity, the rapid rise of text-based threats—such as phishing attempts, malicious reports, and social engineering messages—has made it increasingly difficult for organizations to manually identify and respond to all potential risks. Traditional rule-based systems struggle to keep up with the evolving language and tactics used by attackers. This project seeks to develop a machine learning model capable of automatically classifying cybersecurity-related text as either *malicious* or *benign*. The goal is to assist analysts in filtering vast amounts of unstructured data, enabling quicker and more accurate threat detection using natural language processing and neural networks.\n"
   ]
  },
  {
   "cell_type": "markdown",
   "metadata": {},
   "source": [
    "# Objectives\n",
    "\n",
    "The goal of this project is to build a machine learning model that can classify text data as either a cyber threat or not. We'll leverage NLP techniques and classification algorithms to detect potential threats from text-based data.\n"
   ]
  },
  {
   "cell_type": "markdown",
   "metadata": {},
   "source": [
    "# Data Understanding\n",
    "\n",
    "\n",
    "The dataset used in this project is sourced from [Kaggle](https://www.kaggle.com/datasets/ramoliyafenil/text-based-cyber-threat-detection/data) and contains over 19,000 entries of cyber threat intelligence text. Each record includes raw text along with extracted entities such as malware names, tools, locations, and threat actors. Some entries are labeled with specific threat types, while others are unlabeled or marked benign. The dataset also includes metadata like entity offsets, IDs, and structured fields. This blend of labeled and unlabeled natural language data makes it well-suited for building an intelligent system that can detect malicious content using NLP and deep learning.\n"
   ]
  },
  {
   "cell_type": "markdown",
   "metadata": {},
   "source": [
    "## Explanatory Data Analysis"
   ]
  },
  {
   "cell_type": "code",
   "execution_count": 1,
   "metadata": {},
   "outputs": [],
   "source": [
    "#import standard libraries\n",
    "import numpy as np\n",
    "import pandas as pd\n",
    "import seaborn as sns\n",
    "import matplotlib.pyplot as plt\n",
    "\n",
    "%matplotlib inline"
   ]
  },
  {
   "cell_type": "markdown",
   "metadata": {},
   "source": [
    "Looking through the dataset\n",
    "We begin by loading the dataset and examining its structure, columns, and a few sample rows to get a feel for the data we're working with."
   ]
  },
  {
   "cell_type": "code",
   "execution_count": 2,
   "metadata": {},
   "outputs": [
    {
     "data": {
      "text/html": [
       "<div>\n",
       "<style scoped>\n",
       "    .dataframe tbody tr th:only-of-type {\n",
       "        vertical-align: middle;\n",
       "    }\n",
       "\n",
       "    .dataframe tbody tr th {\n",
       "        vertical-align: top;\n",
       "    }\n",
       "\n",
       "    .dataframe thead th {\n",
       "        text-align: right;\n",
       "    }\n",
       "</style>\n",
       "<table border=\"1\" class=\"dataframe\">\n",
       "  <thead>\n",
       "    <tr style=\"text-align: right;\">\n",
       "      <th></th>\n",
       "      <th>Unnamed: 0</th>\n",
       "      <th>index</th>\n",
       "      <th>text</th>\n",
       "      <th>entities</th>\n",
       "      <th>relations</th>\n",
       "      <th>Comments</th>\n",
       "      <th>id</th>\n",
       "      <th>label</th>\n",
       "      <th>start_offset</th>\n",
       "      <th>end_offset</th>\n",
       "    </tr>\n",
       "  </thead>\n",
       "  <tbody>\n",
       "    <tr>\n",
       "      <th>0</th>\n",
       "      <td>0</td>\n",
       "      <td>1.0</td>\n",
       "      <td>This post is also available in:      日本語 (Japa...</td>\n",
       "      <td>[{'id': 45800, 'label': 'malware', 'start_offs...</td>\n",
       "      <td>[]</td>\n",
       "      <td>[]</td>\n",
       "      <td>45800.0</td>\n",
       "      <td>malware</td>\n",
       "      <td>288.0</td>\n",
       "      <td>300.0</td>\n",
       "    </tr>\n",
       "    <tr>\n",
       "      <th>1</th>\n",
       "      <td>1</td>\n",
       "      <td>2.0</td>\n",
       "      <td>The attack vector is very basic and repeats it...</td>\n",
       "      <td>[{'id': 48941, 'label': 'attack-pattern', 'sta...</td>\n",
       "      <td>[]</td>\n",
       "      <td>[]</td>\n",
       "      <td>48941.0</td>\n",
       "      <td>attack-pattern</td>\n",
       "      <td>69.0</td>\n",
       "      <td>115.0</td>\n",
       "    </tr>\n",
       "    <tr>\n",
       "      <th>2</th>\n",
       "      <td>2</td>\n",
       "      <td>3.0</td>\n",
       "      <td>Once executed by the user the first stage malw...</td>\n",
       "      <td>[]</td>\n",
       "      <td>[]</td>\n",
       "      <td>[]</td>\n",
       "      <td>NaN</td>\n",
       "      <td>NaN</td>\n",
       "      <td>NaN</td>\n",
       "      <td>NaN</td>\n",
       "    </tr>\n",
       "    <tr>\n",
       "      <th>3</th>\n",
       "      <td>3</td>\n",
       "      <td>4.0</td>\n",
       "      <td>The first known campaign was launched by Crim...</td>\n",
       "      <td>[{'id': 45806, 'label': 'TIME', 'start_offset'...</td>\n",
       "      <td>[]</td>\n",
       "      <td>[]</td>\n",
       "      <td>45806.0</td>\n",
       "      <td>TIME</td>\n",
       "      <td>55.0</td>\n",
       "      <td>68.0</td>\n",
       "    </tr>\n",
       "    <tr>\n",
       "      <th>4</th>\n",
       "      <td>4</td>\n",
       "      <td>5.0</td>\n",
       "      <td>The first stage downloaded the ransomware from...</td>\n",
       "      <td>[]</td>\n",
       "      <td>[]</td>\n",
       "      <td>[]</td>\n",
       "      <td>NaN</td>\n",
       "      <td>NaN</td>\n",
       "      <td>NaN</td>\n",
       "      <td>NaN</td>\n",
       "    </tr>\n",
       "    <tr>\n",
       "      <th>...</th>\n",
       "      <td>...</td>\n",
       "      <td>...</td>\n",
       "      <td>...</td>\n",
       "      <td>...</td>\n",
       "      <td>...</td>\n",
       "      <td>...</td>\n",
       "      <td>...</td>\n",
       "      <td>...</td>\n",
       "      <td>...</td>\n",
       "      <td>...</td>\n",
       "    </tr>\n",
       "    <tr>\n",
       "      <th>19935</th>\n",
       "      <td>5279</td>\n",
       "      <td>NaN</td>\n",
       "      <td>Cyclops Blink, an advanced modular botnet that...</td>\n",
       "      <td>NaN</td>\n",
       "      <td>NaN</td>\n",
       "      <td>NaN</td>\n",
       "      <td>NaN</td>\n",
       "      <td>malware</td>\n",
       "      <td>NaN</td>\n",
       "      <td>NaN</td>\n",
       "    </tr>\n",
       "    <tr>\n",
       "      <th>19936</th>\n",
       "      <td>1543</td>\n",
       "      <td>NaN</td>\n",
       "      <td>Sofacy Group has been associated with many at...</td>\n",
       "      <td>NaN</td>\n",
       "      <td>NaN</td>\n",
       "      <td>NaN</td>\n",
       "      <td>NaN</td>\n",
       "      <td>location</td>\n",
       "      <td>NaN</td>\n",
       "      <td>NaN</td>\n",
       "    </tr>\n",
       "    <tr>\n",
       "      <th>19937</th>\n",
       "      <td>13595</td>\n",
       "      <td>NaN</td>\n",
       "      <td>The plugin has been designed to drop multiple ...</td>\n",
       "      <td>NaN</td>\n",
       "      <td>NaN</td>\n",
       "      <td>NaN</td>\n",
       "      <td>NaN</td>\n",
       "      <td>Infrastucture</td>\n",
       "      <td>NaN</td>\n",
       "      <td>NaN</td>\n",
       "    </tr>\n",
       "    <tr>\n",
       "      <th>19938</th>\n",
       "      <td>2368</td>\n",
       "      <td>NaN</td>\n",
       "      <td>We have uncovered a cyberespionage campaign be...</td>\n",
       "      <td>NaN</td>\n",
       "      <td>NaN</td>\n",
       "      <td>NaN</td>\n",
       "      <td>NaN</td>\n",
       "      <td>threat-actor</td>\n",
       "      <td>NaN</td>\n",
       "      <td>NaN</td>\n",
       "    </tr>\n",
       "    <tr>\n",
       "      <th>19939</th>\n",
       "      <td>14267</td>\n",
       "      <td>NaN</td>\n",
       "      <td>Based on the analysis of samples that were las...</td>\n",
       "      <td>NaN</td>\n",
       "      <td>NaN</td>\n",
       "      <td>NaN</td>\n",
       "      <td>NaN</td>\n",
       "      <td>malware</td>\n",
       "      <td>NaN</td>\n",
       "      <td>NaN</td>\n",
       "    </tr>\n",
       "  </tbody>\n",
       "</table>\n",
       "<p>19940 rows × 10 columns</p>\n",
       "</div>"
      ],
      "text/plain": [
       "       Unnamed: 0  index                                               text  \\\n",
       "0               0    1.0  This post is also available in:      日本語 (Japa...   \n",
       "1               1    2.0  The attack vector is very basic and repeats it...   \n",
       "2               2    3.0  Once executed by the user the first stage malw...   \n",
       "3               3    4.0   The first known campaign was launched by Crim...   \n",
       "4               4    5.0  The first stage downloaded the ransomware from...   \n",
       "...           ...    ...                                                ...   \n",
       "19935        5279    NaN  Cyclops Blink, an advanced modular botnet that...   \n",
       "19936        1543    NaN   Sofacy Group has been associated with many at...   \n",
       "19937       13595    NaN  The plugin has been designed to drop multiple ...   \n",
       "19938        2368    NaN  We have uncovered a cyberespionage campaign be...   \n",
       "19939       14267    NaN  Based on the analysis of samples that were las...   \n",
       "\n",
       "                                                entities relations Comments  \\\n",
       "0      [{'id': 45800, 'label': 'malware', 'start_offs...        []       []   \n",
       "1      [{'id': 48941, 'label': 'attack-pattern', 'sta...        []       []   \n",
       "2                                                     []        []       []   \n",
       "3      [{'id': 45806, 'label': 'TIME', 'start_offset'...        []       []   \n",
       "4                                                     []        []       []   \n",
       "...                                                  ...       ...      ...   \n",
       "19935                                                NaN       NaN      NaN   \n",
       "19936                                                NaN       NaN      NaN   \n",
       "19937                                                NaN       NaN      NaN   \n",
       "19938                                                NaN       NaN      NaN   \n",
       "19939                                                NaN       NaN      NaN   \n",
       "\n",
       "            id           label  start_offset  end_offset  \n",
       "0      45800.0         malware         288.0       300.0  \n",
       "1      48941.0  attack-pattern          69.0       115.0  \n",
       "2          NaN             NaN           NaN         NaN  \n",
       "3      45806.0            TIME          55.0        68.0  \n",
       "4          NaN             NaN           NaN         NaN  \n",
       "...        ...             ...           ...         ...  \n",
       "19935      NaN         malware           NaN         NaN  \n",
       "19936      NaN        location           NaN         NaN  \n",
       "19937      NaN   Infrastucture           NaN         NaN  \n",
       "19938      NaN    threat-actor           NaN         NaN  \n",
       "19939      NaN         malware           NaN         NaN  \n",
       "\n",
       "[19940 rows x 10 columns]"
      ]
     },
     "execution_count": 2,
     "metadata": {},
     "output_type": "execute_result"
    }
   ],
   "source": [
    "df = pd.read_csv('cyber-threat-intelligence_all.csv')\n",
    "df"
   ]
  },
  {
   "cell_type": "markdown",
   "metadata": {},
   "source": [
    "The dataset has 19940 rows and 10 columns.We can see that the dataset has a lot of missing values. We can dig further looking at missing elements in each individual rows"
   ]
  },
  {
   "cell_type": "code",
   "execution_count": 3,
   "metadata": {},
   "outputs": [
    {
     "name": "stdout",
     "output_type": "stream",
     "text": [
      "<class 'pandas.core.frame.DataFrame'>\n",
      "RangeIndex: 19940 entries, 0 to 19939\n",
      "Data columns (total 10 columns):\n",
      " #   Column        Non-Null Count  Dtype  \n",
      "---  ------        --------------  -----  \n",
      " 0   Unnamed: 0    19940 non-null  int64  \n",
      " 1   index         19464 non-null  float64\n",
      " 2   text          19940 non-null  object \n",
      " 3   entities      19464 non-null  object \n",
      " 4   relations     19464 non-null  object \n",
      " 5   Comments      19464 non-null  object \n",
      " 6   id            9462 non-null   float64\n",
      " 7   label         9938 non-null   object \n",
      " 8   start_offset  9462 non-null   float64\n",
      " 9   end_offset    9462 non-null   float64\n",
      "dtypes: float64(4), int64(1), object(5)\n",
      "memory usage: 1.5+ MB\n"
     ]
    }
   ],
   "source": [
    "# looking at the stats for each column\n",
    "df.info()"
   ]
  },
  {
   "cell_type": "markdown",
   "metadata": {},
   "source": [
    "We can that the last four columns i.e `id,label,start_offset` and `end_offset` have alot of missing data.Since Most of this columns however will not be used"
   ]
  },
  {
   "cell_type": "code",
   "execution_count": 4,
   "metadata": {},
   "outputs": [
    {
     "data": {
      "text/plain": [
       "malware           1911\n",
       "location          1405\n",
       "SOFTWARE          1229\n",
       "attack-pattern    1206\n",
       "identity          1165\n",
       "threat-actor       890\n",
       "TIME               475\n",
       "tools              391\n",
       "FILEPATH           313\n",
       "vulnerability      245\n",
       "SHA2               160\n",
       "campaign           128\n",
       "URL                127\n",
       "IPV4                61\n",
       "SHA1                60\n",
       "DOMAIN              50\n",
       "Infrastucture       43\n",
       "EMAIL               24\n",
       "REGISTRYKEY         19\n",
       "MD5                 16\n",
       "hash                14\n",
       "url                  6\n",
       "Name: label, dtype: int64"
      ]
     },
     "execution_count": 4,
     "metadata": {},
     "output_type": "execute_result"
    }
   ],
   "source": [
    "#looking at the available labels\n",
    "df['label'].value_counts()"
   ]
  },
  {
   "cell_type": "markdown",
   "metadata": {},
   "source": [
    "The labels represent the different ways in which cyber threats occur through text. We can visualize this using a countplot"
   ]
  },
  {
   "cell_type": "code",
   "execution_count": 5,
   "metadata": {},
   "outputs": [
    {
     "data": {
      "image/png": "[encoded data removed]",
      "text/plain": [
       "<Figure size 432x288 with 1 Axes>"
      ]
     },
     "metadata": {
      "needs_background": "light"
     },
     "output_type": "display_data"
    }
   ],
   "source": [
    "#visualizing using a count plot\n",
    "plt.figure(figsize=(6, 4))\n",
    "sns.countplot(x='label', data=df, palette='Set2')\n",
    "plt.title('Distribution of Labels')\n",
    "plt.xlabel('Label') \n",
    "plt.ylabel('Count')\n",
    "plt.xticks(rotation=90)  \n",
    "plt.tight_layout()\n",
    "plt.show()\n"
   ]
  },
  {
   "cell_type": "code",
   "execution_count": 6,
   "metadata": {},
   "outputs": [
    {
     "data": {
      "text/plain": [
       "0    [{'id': 45800, 'label': 'malware', 'start_offs...\n",
       "1    [{'id': 48941, 'label': 'attack-pattern', 'sta...\n",
       "2                                                   []\n",
       "3    [{'id': 45806, 'label': 'TIME', 'start_offset'...\n",
       "4                                                   []\n",
       "Name: entities, dtype: object"
      ]
     },
     "execution_count": 6,
     "metadata": {},
     "output_type": "execute_result"
    }
   ],
   "source": [
    "df['entities'].head()"
   ]
  },
  {
   "cell_type": "markdown",
   "metadata": {},
   "source": [
    "We noticed many missing values in the `label` column, so we extracted the first entity label from the `entities` JSON column to recover useful annotations. The new labels are stored in a separate column called `entity_label`.\n"
   ]
  },
  {
   "cell_type": "code",
   "execution_count": 7,
   "metadata": {},
   "outputs": [
    {
     "name": "stdout",
     "output_type": "stream",
     "text": [
      "malware           1770\n",
      "location          1382\n",
      "SOFTWARE          1204\n",
      "attack-pattern    1162\n",
      "identity          1128\n",
      "threat-actor       822\n",
      "TIME               458\n",
      "tools              372\n",
      "FILEPATH           298\n",
      "vulnerability      210\n",
      "SHA2               160\n",
      "URL                124\n",
      "campaign           108\n",
      "IPV4                60\n",
      "SHA1                60\n",
      "DOMAIN              50\n",
      "Infrastucture       36\n",
      "EMAIL               24\n",
      "REGISTRYKEY         18\n",
      "MD5                 16\n",
      "Name: entity_label, dtype: int64\n"
     ]
    }
   ],
   "source": [
    "import ast #useful in extracting components safely\n",
    "\n",
    "#  function to extract the 'label' from the 'entities' JSON string\n",
    "def extract_entity_label(entities):\n",
    "    try:\n",
    "        entity_list = ast.literal_eval(entities)  \n",
    "        if isinstance(entity_list, list) and len(entity_list) > 0:\n",
    "            return entity_list[0].get('label')  \n",
    "    except (ValueError, SyntaxError):\n",
    "        return None\n",
    "    return None\n",
    "\n",
    "#create a new column\n",
    "df['entity_label'] = df['entities'].apply(extract_entity_label)\n",
    "\n",
    "# Check distribution of extracted labels\n",
    "print(df['entity_label'].value_counts())"
   ]
  },
  {
   "cell_type": "markdown",
   "metadata": {},
   "source": [
    "We observed ~50% of the label column is null.We intentionally kept these null rows to represent benign text, while rows with non-null labels represent malicious text (target=1). Dropping nulls would remove all benign examples, making the model impossible to train for binary classification."
   ]
  },
  {
   "cell_type": "markdown",
   "metadata": {},
   "source": [
    "For our analysis the `text ` and `label` columns are the ones we are going to use which means that we will drop all other columns. For easier analysis we shall engineer a new column from the label column"
   ]
  },
  {
   "cell_type": "code",
   "execution_count": 8,
   "metadata": {},
   "outputs": [
    {
     "name": "stdout",
     "output_type": "stream",
     "text": [
      "<class 'pandas.core.frame.DataFrame'>\n",
      "RangeIndex: 19940 entries, 0 to 19939\n",
      "Data columns (total 12 columns):\n",
      " #   Column        Non-Null Count  Dtype  \n",
      "---  ------        --------------  -----  \n",
      " 0   Unnamed: 0    19940 non-null  int64  \n",
      " 1   index         19464 non-null  float64\n",
      " 2   text          19940 non-null  object \n",
      " 3   entities      19464 non-null  object \n",
      " 4   relations     19464 non-null  object \n",
      " 5   Comments      19464 non-null  object \n",
      " 6   id            9462 non-null   float64\n",
      " 7   label         9938 non-null   object \n",
      " 8   start_offset  9462 non-null   float64\n",
      " 9   end_offset    9462 non-null   float64\n",
      " 10  entity_label  9462 non-null   object \n",
      " 11  binary_label  19940 non-null  object \n",
      "dtypes: float64(4), int64(1), object(7)\n",
      "memory usage: 1.8+ MB\n"
     ]
    }
   ],
   "source": [
    "#helps classify the text easily\n",
    "df['binary_label'] = df['label'].apply(lambda x: 'benign' if pd.isna(x) else 'malicious')\n",
    "df.info()"
   ]
  },
  {
   "cell_type": "markdown",
   "metadata": {},
   "source": [
    " We create a new `binary_label` column to hold these two categories."
   ]
  },
  {
   "cell_type": "code",
   "execution_count": 9,
   "metadata": {},
   "outputs": [
    {
     "data": {
      "text/plain": [
       "benign       10002\n",
       "malicious     9938\n",
       "Name: binary_label, dtype: int64"
      ]
     },
     "execution_count": 9,
     "metadata": {},
     "output_type": "execute_result"
    }
   ],
   "source": [
    "df['binary_label'].value_counts()"
   ]
  },
  {
   "cell_type": "code",
   "execution_count": 10,
   "metadata": {},
   "outputs": [],
   "source": [
    "data = df[['text','binary_label']]"
   ]
  },
  {
   "cell_type": "markdown",
   "metadata": {},
   "source": [
    "here we select only the columns needed for modeling.the raw text and newly created binary label"
   ]
  },
  {
   "cell_type": "code",
   "execution_count": 11,
   "metadata": {},
   "outputs": [
    {
     "name": "stdout",
     "output_type": "stream",
     "text": [
      "<class 'pandas.core.frame.DataFrame'>\n",
      "RangeIndex: 19940 entries, 0 to 19939\n",
      "Data columns (total 2 columns):\n",
      " #   Column        Non-Null Count  Dtype \n",
      "---  ------        --------------  ----- \n",
      " 0   text          19940 non-null  object\n",
      " 1   binary_label  19940 non-null  object\n",
      "dtypes: object(2)\n",
      "memory usage: 311.7+ KB\n"
     ]
    }
   ],
   "source": [
    "data.info()"
   ]
  },
  {
   "cell_type": "markdown",
   "metadata": {},
   "source": [
    "## Preprocessing\n",
    "\n",
    "The preprocessing phase involved cleaning and transforming the raw text into a structured format suitable for modeling. Key steps included:\n",
    "\n",
    "- Lowercasing all text\n",
    "- Removing punctuation\n",
    "- Tokenizing the text into words\n",
    "- Lemmatizing words to their base forms\n",
    "- Removing common stopwords\n",
    "- Vectorizing the cleaned text using tokenization and padding\n",
    "\n",
    "These steps were crucial in reducing noise and ensuring consistency in the input data, allowing the neural network models to learn meaningful patterns effectively."
   ]
  },
  {
   "cell_type": "code",
   "execution_count": 12,
   "metadata": {},
   "outputs": [],
   "source": [
    "import string \n",
    "import re \n",
    "import nltk\n",
    "nltk.download('wordnet',quiet=True)\n",
    "from nltk.stem import WordNetLemmatizer\n",
    "from nltk.corpus import stopwords\n",
    "from nltk.corpus import stopwords\n",
    "from nltk.tokenize import word_tokenize\n",
    "from nltk.stem import WordNetLemmatizer\n",
    "from nltk.probability import FreqDist\n",
    "from sklearn.model_selection import train_test_split\n",
    "from sklearn.feature_extraction.text import TfidfVectorizer\n",
    "from tensorflow.keras.preprocessing.text import Tokenizer\n",
    "from tensorflow.keras.preprocessing.sequence import pad_sequences\n"
   ]
  },
  {
   "cell_type": "markdown",
   "metadata": {},
   "source": [
    "We define a function to perform the core text cleaning steps and apply it to our `text` column, creating a new `clean_text` column."
   ]
  },
  {
   "cell_type": "code",
   "execution_count": 13,
   "metadata": {},
   "outputs": [
    {
     "name": "stderr",
     "output_type": "stream",
     "text": [
      "<ipython-input-13-731298308f40>:15: SettingWithCopyWarning: \n",
      "A value is trying to be set on a copy of a slice from a DataFrame.\n",
      "Try using .loc[row_indexer,col_indexer] = value instead\n",
      "\n",
      "See the caveats in the documentation: https://pandas.pydata.org/pandas-docs/stable/user_guide/indexing.html#returning-a-view-versus-a-copy\n",
      "  data['clean_text'] = data['text'].apply(preprocess_text)\n"
     ]
    }
   ],
   "source": [
    "lemmatizer = WordNetLemmatizer()\n",
    "\n",
    "stop_words = set(stopwords.words('english'))\n",
    "punctuations = set(string.punctuation)\n",
    "\n",
    "def preprocess_text(text):\n",
    "    text = text.lower() \n",
    "    text = re.sub(r'[^a-z\\s]', '', text)\n",
    "    tokens = word_tokenize(text)\n",
    "    tokens = [lemmatizer.lemmatize(token) for token in tokens]\n",
    "    tokens = [token for token in tokens if token not in stop_words]\n",
    "    processed_text = ' '.join(tokens)\n",
    "    return processed_text\n",
    "\n",
    "data['clean_text'] = data['text'].apply(preprocess_text)"
   ]
  },
  {
   "cell_type": "markdown",
   "metadata": {},
   "source": [
    "we inspect the `clean_text` column to confirm the preprocessing was successful.\""
   ]
  },
  {
   "cell_type": "code",
   "execution_count": 14,
   "metadata": {},
   "outputs": [
    {
     "data": {
      "text/plain": [
       "0        post also available japanese ctblocker wellkno...\n",
       "1        attack vector basic repeat begin spear phishin...\n",
       "2        executed user first stage malware downloads ex...\n",
       "3        first known campaign wa launched crimeware nov...\n",
       "4                   first stage downloaded ransomware site\n",
       "                               ...                        \n",
       "19935    cyclops blink advanced modular botnet reported...\n",
       "19936    sofacy group ha associated many attack target ...\n",
       "19937    plugin ha designed drop multiple php web shell...\n",
       "19938    uncovered cyberespionage campaign perpetrated ...\n",
       "19939    based analysis sample last seen wild march mai...\n",
       "Name: clean_text, Length: 19940, dtype: object"
      ]
     },
     "execution_count": 14,
     "metadata": {},
     "output_type": "execute_result"
    }
   ],
   "source": [
    "data['clean_text']"
   ]
  },
  {
   "cell_type": "markdown",
   "metadata": {},
   "source": [
    "Now that we have our cleaned text, we no longer need the original `text` column."
   ]
  },
  {
   "cell_type": "code",
   "execution_count": 15,
   "metadata": {},
   "outputs": [
    {
     "name": "stderr",
     "output_type": "stream",
     "text": [
      "/home/charles/anaconda3/envs/learn-env/lib/python3.8/site-packages/pandas/core/frame.py:4163: SettingWithCopyWarning: \n",
      "A value is trying to be set on a copy of a slice from a DataFrame\n",
      "\n",
      "See the caveats in the documentation: https://pandas.pydata.org/pandas-docs/stable/user_guide/indexing.html#returning-a-view-versus-a-copy\n",
      "  return super().drop(\n"
     ]
    }
   ],
   "source": [
    "data.drop(columns=['text'], inplace=True)"
   ]
  },
  {
   "cell_type": "markdown",
   "metadata": {},
   "source": [
    "To ensure our preprocessing steps were effective and to gain insights into the dataset's vocabulary, we'll plot the frequency of the most common words in our cleaned text. This helps verify that stopwords have been removed and that the remaining words are relevant to the domain."
   ]
  },
  {
   "cell_type": "code",
   "execution_count": 16,
   "metadata": {},
   "outputs": [
    {
     "name": "stdout",
     "output_type": "stream",
     "text": [
      "237525\n",
      "[('attack', 2162), ('file', 1892), ('malware', 1667), ('figure', 1644), ('threat', 1610), ('user', 1433), ('used', 1417), ('also', 1380), ('wa', 1248), ('security', 1200)]\n"
     ]
    },
    {
     "data": {
      "image/png": "[encoded data removed]",
      "text/plain": [
       "<Figure size 432x288 with 1 Axes>"
      ]
     },
     "metadata": {
      "needs_background": "light"
     },
     "output_type": "display_data"
    }
   ],
   "source": [
    "all_words = []\n",
    "\n",
    "for text in data['clean_text'].dropna():\n",
    "    tokens = word_tokenize(text.lower())  \n",
    "    all_words.extend(tokens)\n",
    "\n",
    "#frequency distribution\n",
    "fdist = FreqDist(all_words)\n",
    "print(len(all_words))\n",
    "\n",
    "#visualizing the most common words\n",
    "print(fdist.most_common(10))\n",
    "\n",
    "# Plot the top 20 words\n",
    "fdist.plot(20, title='Top 20 Most Frequent Words');\n"
   ]
  },
  {
   "cell_type": "markdown",
   "metadata": {},
   "source": [
    "As expected, the most frequent words like `attack`, `malware`, `threat`, and `security` are highly relevant to the cybersecurity domain. This confirms that our text cleaning has preserved the core vocabulary of the dataset.\"\n",
    "     ,\n",
    "   ### Final Data Preparation for Modeling\n",
    "   .\n",
    "    Before feeding the data to a neural network, we need to perform two final steps:,\n",
    "   \n",
    "   .1.  **Label Encoding**: Convert the categorical labels (`benign`, `malicious`) to numerical format (0, 1).\",\n",
    "   \n",
    "   .2.  **Vectorization**: Convert the text sequences into numerical vectors of the same length."
   ]
  },
  {
   "cell_type": "code",
   "execution_count": 17,
   "metadata": {},
   "outputs": [
    {
     "name": "stderr",
     "output_type": "stream",
     "text": [
      "<ipython-input-17-307798cdd6ec>:1: SettingWithCopyWarning: \n",
      "A value is trying to be set on a copy of a slice from a DataFrame.\n",
      "Try using .loc[row_indexer,col_indexer] = value instead\n",
      "\n",
      "See the caveats in the documentation: https://pandas.pydata.org/pandas-docs/stable/user_guide/indexing.html#returning-a-view-versus-a-copy\n",
      "  data['label_encoded'] = data['binary_label'].map({'benign': 0, 'malicious': 1})\n"
     ]
    }
   ],
   "source": [
    "data['label_encoded'] = data['binary_label'].map({'benign': 0, 'malicious': 1})"
   ]
  },
  {
   "cell_type": "code",
   "execution_count": 18,
   "metadata": {},
   "outputs": [
    {
     "data": {
      "text/html": [
       "<div>\n",
       "<style scoped>\n",
       "    .dataframe tbody tr th:only-of-type {\n",
       "        vertical-align: middle;\n",
       "    }\n",
       "\n",
       "    .dataframe tbody tr th {\n",
       "        vertical-align: top;\n",
       "    }\n",
       "\n",
       "    .dataframe thead th {\n",
       "        text-align: right;\n",
       "    }\n",
       "</style>\n",
       "<table border=\"1\" class=\"dataframe\">\n",
       "  <thead>\n",
       "    <tr style=\"text-align: right;\">\n",
       "      <th></th>\n",
       "      <th>clean_text</th>\n",
       "      <th>label_encoded</th>\n",
       "    </tr>\n",
       "  </thead>\n",
       "  <tbody>\n",
       "    <tr>\n",
       "      <th>0</th>\n",
       "      <td>post also available japanese ctblocker wellkno...</td>\n",
       "      <td>1</td>\n",
       "    </tr>\n",
       "    <tr>\n",
       "      <th>1</th>\n",
       "      <td>attack vector basic repeat begin spear phishin...</td>\n",
       "      <td>1</td>\n",
       "    </tr>\n",
       "    <tr>\n",
       "      <th>2</th>\n",
       "      <td>executed user first stage malware downloads ex...</td>\n",
       "      <td>0</td>\n",
       "    </tr>\n",
       "    <tr>\n",
       "      <th>3</th>\n",
       "      <td>first known campaign wa launched crimeware nov...</td>\n",
       "      <td>1</td>\n",
       "    </tr>\n",
       "    <tr>\n",
       "      <th>4</th>\n",
       "      <td>first stage downloaded ransomware site</td>\n",
       "      <td>0</td>\n",
       "    </tr>\n",
       "  </tbody>\n",
       "</table>\n",
       "</div>"
      ],
      "text/plain": [
       "                                          clean_text  label_encoded\n",
       "0  post also available japanese ctblocker wellkno...              1\n",
       "1  attack vector basic repeat begin spear phishin...              1\n",
       "2  executed user first stage malware downloads ex...              0\n",
       "3  first known campaign wa launched crimeware nov...              1\n",
       "4             first stage downloaded ransomware site              0"
      ]
     },
     "execution_count": 18,
     "metadata": {},
     "output_type": "execute_result"
    }
   ],
   "source": [
    "data.drop(columns=['binary_label'], inplace=True)\n",
    "data.head()"
   ]
  },
  {
   "cell_type": "markdown",
   "metadata": {},
   "source": [
    "### Text Vectorization,\n",
    "Neural networks require numerical input. We will use Keras's `Tokenizer` to convert each text into a sequence of integers, where each integer represents a unique word in the vocabulary. We limit the vocabulary to the top 10,000 words to keep the model manageable.\n",
    "    ,\n",
    "    Since text entries have different lengths, we use `pad_sequences` to ensure every sequence has the same length (`MAX_SEQ_LEN = 250`). Shorter sequences are padded with zeros at the end, and longer ones are truncated."
   ]
  },
  {
   "cell_type": "code",
   "execution_count": 19,
   "metadata": {},
   "outputs": [
    {
     "name": "stdout",
     "output_type": "stream",
     "text": [
      "3532\n",
      "Maximum Sequence Length (Tokens): 379\n",
      "Maximum Sequence Length (Characters): 3532\n"
     ]
    }
   ],
   "source": [
    "max_length = data['clean_text'].str.len().max()\n",
    "print(max_length)\n",
    "max_length_tokens = data['clean_text'].apply(lambda x: len(x.split())).max()\n",
    "\n",
    "max_length_characters = data['clean_text'].apply(lambda x: len(x)).max()\n",
    "\n",
    "print('Maximum Sequence Length (Tokens):', max_length_tokens)\n",
    "print('Maximum Sequence Length (Characters):', max_length_characters)"
   ]
  },
  {
   "cell_type": "code",
   "execution_count": 20,
   "metadata": {},
   "outputs": [
    {
     "data": {
      "text/html": [
       "<div>\n",
       "<style scoped>\n",
       "    .dataframe tbody tr th:only-of-type {\n",
       "        vertical-align: middle;\n",
       "    }\n",
       "\n",
       "    .dataframe tbody tr th {\n",
       "        vertical-align: top;\n",
       "    }\n",
       "\n",
       "    .dataframe thead th {\n",
       "        text-align: right;\n",
       "    }\n",
       "</style>\n",
       "<table border=\"1\" class=\"dataframe\">\n",
       "  <thead>\n",
       "    <tr style=\"text-align: right;\">\n",
       "      <th></th>\n",
       "      <th>clean_text</th>\n",
       "      <th>label_encoded</th>\n",
       "    </tr>\n",
       "  </thead>\n",
       "  <tbody>\n",
       "    <tr>\n",
       "      <th>0</th>\n",
       "      <td>post also available japanese ctblocker wellkno...</td>\n",
       "      <td>1</td>\n",
       "    </tr>\n",
       "    <tr>\n",
       "      <th>1</th>\n",
       "      <td>attack vector basic repeat begin spear phishin...</td>\n",
       "      <td>1</td>\n",
       "    </tr>\n",
       "    <tr>\n",
       "      <th>2</th>\n",
       "      <td>executed user first stage malware downloads ex...</td>\n",
       "      <td>0</td>\n",
       "    </tr>\n",
       "    <tr>\n",
       "      <th>3</th>\n",
       "      <td>first known campaign wa launched crimeware nov...</td>\n",
       "      <td>1</td>\n",
       "    </tr>\n",
       "    <tr>\n",
       "      <th>4</th>\n",
       "      <td>first stage downloaded ransomware site</td>\n",
       "      <td>0</td>\n",
       "    </tr>\n",
       "  </tbody>\n",
       "</table>\n",
       "</div>"
      ],
      "text/plain": [
       "                                          clean_text  label_encoded\n",
       "0  post also available japanese ctblocker wellkno...              1\n",
       "1  attack vector basic repeat begin spear phishin...              1\n",
       "2  executed user first stage malware downloads ex...              0\n",
       "3  first known campaign wa launched crimeware nov...              1\n",
       "4             first stage downloaded ransomware site              0"
      ]
     },
     "execution_count": 20,
     "metadata": {},
     "output_type": "execute_result"
    }
   ],
   "source": [
    "data.head()"
   ]
  },
  {
   "cell_type": "code",
   "execution_count": 21,
   "metadata": {},
   "outputs": [],
   "source": [
    "\n",
    "#Parmeters for sequencing\n",
    "MAX_NB_WORDS = 10000       \n",
    "MAX_SEQ_LEN = 250       \n",
    "\n",
    "#initialization of the token\n",
    "tokenizer = Tokenizer(num_words=MAX_NB_WORDS, oov_token=\"<OOV>\")\n",
    "tokenizer.fit_on_texts(data['clean_text'])\n",
    "\n",
    "#text to sequences\n",
    "sequences = tokenizer.texts_to_sequences(data['clean_text'])\n",
    "\n",
    "# Pad sequences to uniform length and the data into X and y\n",
    "X = pad_sequences(sequences, maxlen=MAX_SEQ_LEN, padding='post', truncating='post')\n",
    "\n",
    "y = data['label_encoded']\n"
   ]
  },
  {
   "cell_type": "markdown",
   "metadata": {},
   "source": [
    "We check the shape of our processed features (X) and target (y) to ensure they are ready for the model."
   ]
  },
  {
   "cell_type": "code",
   "execution_count": 22,
   "metadata": {},
   "outputs": [
    {
     "name": "stdout",
     "output_type": "stream",
     "text": [
      "x_shape: (19940, 250) \n",
      "y_shape: (19940,) \n"
     ]
    }
   ],
   "source": [
    "print(f'x_shape: {X.shape} ')\n",
    "print(f'y_shape: {y.shape} ')"
   ]
  },
  {
   "cell_type": "markdown",
   "metadata": {},
   "source": [
    "Our feature matrix `X` now has 19,940 samples, each represented as a vector of 250 integers."
   ]
  },
  {
   "cell_type": "code",
   "execution_count": 23,
   "metadata": {},
   "outputs": [
    {
     "data": {
      "text/plain": [
       "array([[ 147,    9,  134, ...,    0,    0,    0],\n",
       "       [   2,  400,  889, ...,    0,    0,    0],\n",
       "       [ 345,    7,   62, ...,    0,    0,    0],\n",
       "       ...,\n",
       "       [1084,   12,  416, ...,    0,    0,    0],\n",
       "       [ 960,  924,   18, ...,    0,    0,    0],\n",
       "       [ 149,   64,   38, ...,    0,    0,    0]], dtype=int32)"
      ]
     },
     "execution_count": 23,
     "metadata": {},
     "output_type": "execute_result"
    }
   ],
   "source": [
    "X"
   ]
  },
  {
   "cell_type": "markdown",
   "metadata": {},
   "source": [
    "### Train-Validation Split\"\n",
    "We split the data into a training set (80%) and a validation set (20%)."
   ]
  },
  {
   "cell_type": "code",
   "execution_count": 24,
   "metadata": {},
   "outputs": [],
   "source": [
    "#split the data now into training and testing\n",
    "X_train, X_val, y_train, y_val = train_test_split(X, y, test_size=0.2, random_state=42)"
   ]
  },
  {
   "cell_type": "markdown",
   "metadata": {},
   "source": [
    "### Baseline model"
   ]
  },
  {
   "cell_type": "code",
   "execution_count": 25,
   "metadata": {},
   "outputs": [],
   "source": [
    "from tensorflow.keras.models import Sequential\n",
    "from tensorflow.keras.layers import Embedding, LSTM, Dense, Flatten,SpatialDropout1D,Bidirectional,Dropout,GlobalMaxPooling1D\n",
    "from sklearn.metrics import classification_report, confusion_matrix, ConfusionMatrixDisplay\n",
    "from tensorflow.keras.layers import Dropout\n",
    "from keras.callbacks import EarlyStopping, ModelCheckpoint\n",
    "from keras.optimizers import Adam\n"
   ]
  },
  {
   "cell_type": "markdown",
   "metadata": {},
   "source": [
    "We start with a simple but effective baseline model. The architecture consists of:,\n",
    "    1.  **Embedding Layer**: Learns a 64-dimensional vector representation for each word in our vocabulary.,\n",
    "    2.  **Flatten Layer**: Converts the 2D output of the embedding layer into a 1D vector.,\n",
    "    3.  **Dense Layers**: A standard fully-connected neural network with a ReLU activation function for learning non-linear patterns and a final Sigmoid activation for binary classification output.\n",
    "   "
   ]
  },
  {
   "cell_type": "code",
   "execution_count": 26,
   "metadata": {},
   "outputs": [
    {
     "name": "stdout",
     "output_type": "stream",
     "text": [
      "Model: \"sequential\"\n",
      "_________________________________________________________________\n",
      "Layer (type)                 Output Shape              Param #   \n",
      "=================================================================\n",
      "embedding (Embedding)        (None, 250, 64)           640000    \n",
      "_________________________________________________________________\n",
      "flatten (Flatten)            (None, 16000)             0         \n",
      "_________________________________________________________________\n",
      "dense (Dense)                (None, 64)                1024064   \n",
      "_________________________________________________________________\n",
      "dense_1 (Dense)              (None, 1)                 65        \n",
      "=================================================================\n",
      "Total params: 1,664,129\n",
      "Trainable params: 1,664,129\n",
      "Non-trainable params: 0\n",
      "_________________________________________________________________\n"
     ]
    }
   ],
   "source": [
    "\n",
    "base_model = Sequential()\n",
    "base_model.add(Embedding(input_dim=MAX_NB_WORDS, output_dim=64, input_length=MAX_SEQ_LEN))\n",
    "base_model.add(Flatten())\n",
    "base_model.add(Dense(64, activation='relu'))\n",
    "base_model.add(Dense(1, activation='sigmoid'))\n",
    "\n",
    "base_model.compile(optimizer='adam', loss='binary_crossentropy', metrics=['accuracy'])\n",
    "base_model.summary()"
   ]
  },
  {
   "cell_type": "code",
   "execution_count": 27,
   "metadata": {},
   "outputs": [
    {
     "name": "stdout",
     "output_type": "stream",
     "text": [
      "Epoch 1/5\n",
      "499/499 [==============================] - 7s 14ms/step - loss: 0.4656 - accuracy: 0.7674 - val_loss: 0.3003 - val_accuracy: 0.8819\n",
      "Epoch 2/5\n",
      "499/499 [==============================] - 6s 13ms/step - loss: 0.1767 - accuracy: 0.9362 - val_loss: 0.1873 - val_accuracy: 0.9356\n",
      "Epoch 3/5\n",
      "499/499 [==============================] - 6s 12ms/step - loss: 0.0856 - accuracy: 0.9752 - val_loss: 0.1585 - val_accuracy: 0.9481\n",
      "Epoch 4/5\n",
      "499/499 [==============================] - 6s 13ms/step - loss: 0.0628 - accuracy: 0.9802 - val_loss: 0.1577 - val_accuracy: 0.9516\n",
      "Epoch 5/5\n",
      "499/499 [==============================] - 6s 13ms/step - loss: 0.0537 - accuracy: 0.9835 - val_loss: 0.1525 - val_accuracy: 0.9524\n"
     ]
    },
    {
     "data": {
      "text/plain": [
       "<tensorflow.python.keras.callbacks.History at 0x7530dc3370a0>"
      ]
     },
     "execution_count": 27,
     "metadata": {},
     "output_type": "execute_result"
    }
   ],
   "source": [
    "#fit and train model\n",
    "base_model.fit(X_train, y_train, validation_data=(X_val, y_val), epochs=5, batch_size=32)"
   ]
  },
  {
   "cell_type": "code",
   "execution_count": 28,
   "metadata": {},
   "outputs": [
    {
     "name": "stdout",
     "output_type": "stream",
     "text": [
      "Epoch 1/10\n",
      "499/499 [==============================] - 6s 13ms/step - loss: 0.0522 - accuracy: 0.9824 - val_loss: 0.1449 - val_accuracy: 0.9549\n",
      "Epoch 2/10\n",
      "499/499 [==============================] - 6s 12ms/step - loss: 0.0486 - accuracy: 0.9833 - val_loss: 0.1421 - val_accuracy: 0.9519\n",
      "Epoch 3/10\n",
      "499/499 [==============================] - 6s 12ms/step - loss: 0.0483 - accuracy: 0.9830 - val_loss: 0.1466 - val_accuracy: 0.9509\n",
      "Epoch 4/10\n",
      "499/499 [==============================] - 6s 13ms/step - loss: 0.0468 - accuracy: 0.9829 - val_loss: 0.1497 - val_accuracy: 0.9556\n",
      "Epoch 5/10\n",
      "499/499 [==============================] - 6s 13ms/step - loss: 0.0432 - accuracy: 0.9834 - val_loss: 0.1447 - val_accuracy: 0.9539\n",
      "Epoch 6/10\n",
      "499/499 [==============================] - 6s 13ms/step - loss: 0.0436 - accuracy: 0.9831 - val_loss: 0.1421 - val_accuracy: 0.9521\n",
      "Epoch 7/10\n",
      "499/499 [==============================] - 6s 13ms/step - loss: 0.0414 - accuracy: 0.9835 - val_loss: 0.1505 - val_accuracy: 0.9481\n",
      "Epoch 8/10\n",
      "499/499 [==============================] - 6s 12ms/step - loss: 0.0419 - accuracy: 0.9836 - val_loss: 0.1450 - val_accuracy: 0.9519\n",
      "Epoch 9/10\n",
      "499/499 [==============================] - 7s 13ms/step - loss: 0.0397 - accuracy: 0.9843 - val_loss: 0.1576 - val_accuracy: 0.9443\n",
      "Epoch 10/10\n",
      "499/499 [==============================] - 6s 12ms/step - loss: 0.0418 - accuracy: 0.9836 - val_loss: 0.1494 - val_accuracy: 0.9514\n"
     ]
    }
   ],
   "source": [
    "history = base_model.fit(\n",
    "    X_train, y_train,\n",
    "    validation_data=(X_val, y_val),\n",
    "    epochs=10,\n",
    "    batch_size=32\n",
    ")\n",
    "\n",
    "def plot_training_history(history, model_name=\"Model\"):\n",
    "    acc = history.history['accuracy']\n",
    "    val_acc = history.history['val_accuracy']\n",
    "    loss = history.history['loss']\n",
    "    val_loss = history.history['val_loss']\n",
    "    epochs_range = range(len(acc))\n",
    "\n",
    "    plt.figure(figsize=(12, 5))\n",
    "\n",
    "    # Accuracy plot\n",
    "    plt.subplot(1, 2, 1)\n",
    "    plt.plot(epochs_range, acc, label='Training Accuracy')\n",
    "    plt.plot(epochs_range, val_acc, label='Validation Accuracy')\n",
    "    plt.title(f'{model_name} - Accuracy')\n",
    "    plt.xlabel('Epoch')\n",
    "    plt.ylabel('Accuracy')\n",
    "    plt.legend()\n",
    "\n",
    "    # Loss plot\n",
    "    plt.subplot(1, 2, 2)\n",
    "    plt.plot(epochs_range, loss, label='Training Loss')\n",
    "    plt.plot(epochs_range, val_loss, label='Validation Loss')\n",
    "    plt.title(f'{model_name} - Loss')\n",
    "    plt.xlabel('Epoch')\n",
    "    plt.ylabel('Loss')\n",
    "    plt.legend()\n",
    "\n",
    "    plt.tight_layout()\n",
    "    plt.show()\n"
   ]
  },
  {
   "cell_type": "code",
   "execution_count": 29,
   "metadata": {
    "scrolled": true
   },
   "outputs": [
    {
     "data": {
      "image/png": "[encoded data removed]",
      "text/plain": [
       "<Figure size 864x360 with 2 Axes>"
      ]
     },
     "metadata": {
      "needs_background": "light"
     },
     "output_type": "display_data"
    }
   ],
   "source": [
    "plot_training_history(history, model_name=\"Baseline Neural Net\")"
   ]
  },
  {
   "cell_type": "markdown",
   "metadata": {},
   "source": [
    "The training history plots show that the model is learning well on the training data, with accuracy increasing and loss decreasing. However, there's a noticeable gap between the training and validation curves, especially for loss. This suggests the model is starting to overfit the training data. While its performance on the validation set is strong (around 95% accuracy), we can likely improve its generalization by adding regularization techniques."
   ]
  },
  {
   "cell_type": "markdown",
   "metadata": {},
   "source": [
    "***Evaluation Metrics for Baseline Model***,\n",
    "\n",
    "To get a more detailed picture of the baseline model's performance, we'll define a function to generate a classification report and a confusion matrix. This will show us the precision, recall, and F1-score for each class, as well as the specific types of errors the model is making."
   ]
  },
  {
   "cell_type": "code",
   "execution_count": 30,
   "metadata": {},
   "outputs": [],
   "source": [
    "\n",
    "def evaluate_model(model, X, y, model_name=\"Model\"):\n",
    "    print(f\" Evaluation Report for {model_name}\")\n",
    "    print(\"=\"*40)\n",
    "    \n",
    "    #probabilities\n",
    "    y_pred_probs = model.predict(X)\n",
    "    \n",
    "    # If model returns probabilities in nested arrays\n",
    "    if len(y_pred_probs.shape) > 1:\n",
    "        y_pred_probs = y_pred_probs.ravel()\n",
    "    \n",
    "    # Convert probabilities to binary predictions\n",
    "    y_pred = (y_pred_probs >= 0.5).astype(int)\n",
    "    \n",
    "    # Classification report\n",
    "    print(\"\\n📊 Classification Report:\")\n",
    "    print(classification_report(y, y_pred))\n",
    "\n",
    "    # Confusion matrix\n",
    "    cm = confusion_matrix(y, y_pred)\n",
    "    disp = ConfusionMatrixDisplay(confusion_matrix=cm, display_labels=[\"Benign\", \"Malicious\"])\n",
    "    disp.plot(cmap=\"Blues\")\n",
    "    plt.title(f\"Confusion Matrix for {model_name}\")\n",
    "    plt.show()\n"
   ]
  },
  {
   "cell_type": "code",
   "execution_count": 31,
   "metadata": {},
   "outputs": [
    {
     "name": "stdout",
     "output_type": "stream",
     "text": [
      " Evaluation Report for Baseline Neural Net\n",
      "========================================\n",
      "\n",
      "📊 Classification Report:\n",
      "              precision    recall  f1-score   support\n",
      "\n",
      "           0       0.94      0.97      0.95      2006\n",
      "           1       0.97      0.94      0.95      1982\n",
      "\n",
      "    accuracy                           0.95      3988\n",
      "   macro avg       0.95      0.95      0.95      3988\n",
      "weighted avg       0.95      0.95      0.95      3988\n",
      "\n"
     ]
    },
    {
     "data": {
      "image/png": "[encoded data removed]",
      "text/plain": [
       "<Figure size 432x288 with 2 Axes>"
      ]
     },
     "metadata": {
      "needs_background": "light"
     },
     "output_type": "display_data"
    }
   ],
   "source": [
    "evaluate_model(base_model, X_val, y_val, model_name=\"Baseline Neural Net\")\n"
   ]
  },
  {
   "cell_type": "markdown",
   "metadata": {},
   "source": [
    " The baseline model achieves an overall accuracy of 95%.\n",
    "    \n",
    "   - **Precision** for the malicious class is high (0.97), meaning that when the model predicts text is malicious, it is correct 97% of the time.\n",
    "    \n",
    "   - **Recall** for the malicious class is slightly lower (0.92), indicating that the model correctly identifies 92% of all actual malicious texts.\n",
    "    \n",
    "The confusion matrix shows that the model misclassified 65 benign texts as malicious (False Positives) and 153 malicious texts as benign (False Negatives). In cybersecurity, minimizing False Negatives is often a priority, as missing a real threat can be costly. This is an area we can aim to improve."
   ]
  },
  {
   "cell_type": "markdown",
   "metadata": {},
   "source": [
    "# Tuned Model\n",
    "To address the overfitting observed in the baseline and potentially improve performance, we create a tuned model. The key changes are:,\n",
    "    \n",
    "   1.  **Increased Complexity**: A larger `Dense` layer (128 units) is added to give the model more capacity to learn.\n",
    "    \n",
    "   2.  **Regularization**: A `Dropout` layer is introduced, which randomly sets a fraction of input units to 0 during training to prevent co-adaptation of neurons and reduce overfitting.\n",
    "   \n",
    "   3.  **Callbacks**: We use `EarlyStopping` to halt training if the validation loss doesn't improve for 3 consecutive epochs, and `ModelCheckpoint` to save the best version of the model during training."
   ]
  },
  {
   "cell_type": "code",
   "execution_count": 32,
   "metadata": {},
   "outputs": [
    {
     "name": "stdout",
     "output_type": "stream",
     "text": [
      "Model: \"sequential_1\"\n",
      "_________________________________________________________________\n",
      "Layer (type)                 Output Shape              Param #   \n",
      "=================================================================\n",
      "embedding_1 (Embedding)      (None, 250, 64)           640000    \n",
      "_________________________________________________________________\n",
      "flatten_1 (Flatten)          (None, 16000)             0         \n",
      "_________________________________________________________________\n",
      "dense_2 (Dense)              (None, 128)               2048128   \n",
      "_________________________________________________________________\n",
      "dropout (Dropout)            (None, 128)               0         \n",
      "_________________________________________________________________\n",
      "dense_3 (Dense)              (None, 64)                8256      \n",
      "_________________________________________________________________\n",
      "dense_4 (Dense)              (None, 1)                 65        \n",
      "=================================================================\n",
      "Total params: 2,696,449\n",
      "Trainable params: 2,696,449\n",
      "Non-trainable params: 0\n",
      "_________________________________________________________________\n"
     ]
    }
   ],
   "source": [
    "tuned_model = Sequential()\n",
    "tuned_model.add(Embedding(input_dim=MAX_NB_WORDS, output_dim=64, input_length=MAX_SEQ_LEN))\n",
    "tuned_model.add(Flatten())\n",
    "tuned_model.add(Dense(128, activation='relu'))\n",
    "# Dropout layer for regularization\n",
    "tuned_model.add(Dropout(0.3))   \n",
    "tuned_model.add(Dense(64, activation='relu'))\n",
    "# Binary\n",
    "tuned_model.add(Dense(1, activation='sigmoid'))   \n",
    "\n",
    "# Compile with tuned optimizer\n",
    "tuned_model.compile(\n",
    "    optimizer=Adam(learning_rate=0.001),\n",
    "    loss='binary_crossentropy',\n",
    "    metrics=['accuracy']\n",
    ")\n",
    "\n",
    "tuned_model.summary()"
   ]
  },
  {
   "cell_type": "code",
   "execution_count": 33,
   "metadata": {},
   "outputs": [
    {
     "name": "stdout",
     "output_type": "stream",
     "text": [
      "Epoch 1/10\n",
      "499/499 [==============================] - 8s 17ms/step - loss: 0.4462 - accuracy: 0.7815 - val_loss: 0.2593 - val_accuracy: 0.9027\n",
      "Epoch 2/10\n",
      "499/499 [==============================] - 7s 14ms/step - loss: 0.1447 - accuracy: 0.9532 - val_loss: 0.1769 - val_accuracy: 0.9391\n",
      "Epoch 3/10\n",
      "499/499 [==============================] - 7s 14ms/step - loss: 0.0674 - accuracy: 0.9804 - val_loss: 0.1595 - val_accuracy: 0.9529\n",
      "Epoch 4/10\n",
      "499/499 [==============================] - 7s 15ms/step - loss: 0.0444 - accuracy: 0.9821 - val_loss: 0.1669 - val_accuracy: 0.9534\n",
      "Epoch 5/10\n",
      "499/499 [==============================] - 9s 18ms/step - loss: 0.0369 - accuracy: 0.9836 - val_loss: 0.1666 - val_accuracy: 0.9546\n",
      "Epoch 6/10\n",
      "499/499 [==============================] - 9s 19ms/step - loss: 0.0330 - accuracy: 0.9828 - val_loss: 0.1781 - val_accuracy: 0.9506\n"
     ]
    }
   ],
   "source": [
    "# Define callbacks\n",
    "early_stop = EarlyStopping(monitor='val_loss', patience=3, restore_best_weights=True)\n",
    "checkpoint = ModelCheckpoint('tuned_model.keras', save_best_only=True)\n",
    "\n",
    "# Train\n",
    "history_tuned = tuned_model.fit(\n",
    "    X_train, y_train,\n",
    "    validation_data=(X_val, y_val),\n",
    "    epochs=10,\n",
    "    batch_size=32,\n",
    "    callbacks=[early_stop, checkpoint],\n",
    "    verbose=1\n",
    ")"
   ]
  },
  {
   "cell_type": "code",
   "execution_count": 34,
   "metadata": {},
   "outputs": [
    {
     "data": {
      "image/png": "[encoded data removed]",
      "text/plain": [
       "<Figure size 864x360 with 2 Axes>"
      ]
     },
     "metadata": {
      "needs_background": "light"
     },
     "output_type": "display_data"
    }
   ],
   "source": [
    "plot_training_history(history_tuned, model_name=\"Tuned Neural Net\")"
   ]
  },
  {
   "cell_type": "markdown",
   "metadata": {},
   "source": [
    "The training for the tuned model was stopped early after 6 epochs, as the validation loss did not improve. This demonstrates the effectiveness of `EarlyStopping` in preventing unnecessary training and overfitting. The gap between the training and validation loss curves is smaller compared to the baseline, suggesting the `Dropout` layer was successful in its regularization role."
   ]
  },
  {
   "cell_type": "code",
   "execution_count": 35,
   "metadata": {},
   "outputs": [
    {
     "name": "stdout",
     "output_type": "stream",
     "text": [
      " Evaluation Report for Tuned Neural Net\n",
      "========================================\n",
      "\n",
      "📊 Classification Report:\n",
      "              precision    recall  f1-score   support\n",
      "\n",
      "           0       0.95      0.96      0.95      2006\n",
      "           1       0.95      0.95      0.95      1982\n",
      "\n",
      "    accuracy                           0.95      3988\n",
      "   macro avg       0.95      0.95      0.95      3988\n",
      "weighted avg       0.95      0.95      0.95      3988\n",
      "\n"
     ]
    },
    {
     "data": {
      "image/png": "[encoded data removed]",
      "text/plain": [
       "<Figure size 432x288 with 2 Axes>"
      ]
     },
     "metadata": {
      "needs_background": "light"
     },
     "output_type": "display_data"
    }
   ],
   "source": [
    "evaluate_model(tuned_model, X_val, y_val, model_name=\"Tuned Neural Net\")\n"
   ]
  },
  {
   "cell_type": "markdown",
   "metadata": {},
   "source": [
    "The tuned model achieves a similar overall accuracy of 95%, but with a better balance between precision and recall for both classes. The F1-scores are now identical at 0.95 for both benign and malicious, indicating a well-balanced model. It has slightly more False Positives (101 vs. 65) but fewer False Negatives (100 vs. 153) compared to the baseline, which is a favorable trade-off for threat detection."
   ]
  },
  {
   "cell_type": "markdown",
   "metadata": {},
   "source": [
    "## LSTM-RNN\n",
    "We did a Recurrent Neural Network (RNN) using an LSTM (Long Short-Term Memory) layer. LSTMs are specifically designed to handle sequential data like text, as they can capture long-range dependencies and context that a simple dense network might miss. This model replaces the `Flatten` and `Dense` layers with a single `LSTM` layer."
   ]
  },
  {
   "cell_type": "code",
   "execution_count": 36,
   "metadata": {},
   "outputs": [
    {
     "name": "stdout",
     "output_type": "stream",
     "text": [
      "Model: \"sequential_2\"\n",
      "_________________________________________________________________\n",
      "Layer (type)                 Output Shape              Param #   \n",
      "=================================================================\n",
      "embedding_2 (Embedding)      (None, 250, 64)           640000    \n",
      "_________________________________________________________________\n",
      "lstm (LSTM)                  (None, 64)                33024     \n",
      "_________________________________________________________________\n",
      "dense_5 (Dense)              (None, 1)                 65        \n",
      "=================================================================\n",
      "Total params: 673,089\n",
      "Trainable params: 673,089\n",
      "Non-trainable params: 0\n",
      "_________________________________________________________________\n"
     ]
    }
   ],
   "source": [
    "rnn_model = Sequential()\n",
    "rnn_model.add(Embedding(input_dim=MAX_NB_WORDS, output_dim=64, input_length=MAX_SEQ_LEN))\n",
    "rnn_model.add(LSTM(64, dropout=0.2, recurrent_dropout=0.2)) \n",
    "rnn_model.add(Dense(1, activation='sigmoid'))\n",
    "\n",
    "rnn_model.compile(optimizer='adam', loss='binary_crossentropy', metrics=['accuracy'])\n",
    "rnn_model.summary()\n",
    "\n"
   ]
  },
  {
   "cell_type": "markdown",
   "metadata": {},
   "source": [
    "#### LSTM Model Training and Evaluation"
   ]
  },
  {
   "cell_type": "code",
   "execution_count": 37,
   "metadata": {},
   "outputs": [
    {
     "name": "stdout",
     "output_type": "stream",
     "text": [
      "Epoch 1/10\n",
      "499/499 [==============================] - 152s 304ms/step - loss: 0.6933 - accuracy: 0.5031 - val_loss: 0.6934 - val_accuracy: 0.4970\n",
      "Epoch 2/10\n",
      "499/499 [==============================] - 134s 268ms/step - loss: 0.6934 - accuracy: 0.4987 - val_loss: 0.6931 - val_accuracy: 0.4970\n",
      "Epoch 3/10\n",
      "499/499 [==============================] - 133s 267ms/step - loss: 0.6933 - accuracy: 0.4951 - val_loss: 0.6932 - val_accuracy: 0.4970\n",
      "Epoch 4/10\n",
      "499/499 [==============================] - 143s 286ms/step - loss: 0.6933 - accuracy: 0.4937 - val_loss: 0.6931 - val_accuracy: 0.5033\n",
      "Epoch 5/10\n",
      "499/499 [==============================] - 192s 384ms/step - loss: 0.6932 - accuracy: 0.5007 - val_loss: 0.6932 - val_accuracy: 0.5033\n",
      "Epoch 6/10\n",
      "499/499 [==============================] - 232s 464ms/step - loss: 0.6931 - accuracy: 0.4989 - val_loss: 0.6930 - val_accuracy: 0.5033\n",
      "Epoch 7/10\n",
      "499/499 [==============================] - 166s 333ms/step - loss: 0.6931 - accuracy: 0.5028 - val_loss: 0.6931 - val_accuracy: 0.4970\n",
      "Epoch 8/10\n",
      "499/499 [==============================] - 143s 286ms/step - loss: 0.6931 - accuracy: 0.4974 - val_loss: 0.6931 - val_accuracy: 0.5033\n",
      "Epoch 9/10\n",
      "499/499 [==============================] - 138s 277ms/step - loss: 0.6931 - accuracy: 0.4959 - val_loss: 0.6930 - val_accuracy: 0.5033\n",
      "Epoch 10/10\n",
      "499/499 [==============================] - 138s 277ms/step - loss: 0.6930 - accuracy: 0.5007 - val_loss: 0.6932 - val_accuracy: 0.4970\n"
     ]
    }
   ],
   "source": [
    "history_rnn = rnn_model.fit(\n",
    "    X_train, y_train,\n",
    "    validation_data=(X_val, y_val),\n",
    "    epochs=10,\n",
    "    batch_size=32\n",
    ")\n"
   ]
  },
  {
   "cell_type": "code",
   "execution_count": 38,
   "metadata": {},
   "outputs": [
    {
     "name": "stdout",
     "output_type": "stream",
     "text": [
      " Evaluation Report for LSTM RNN\n",
      "========================================\n",
      "\n",
      "📊 Classification Report:\n",
      "              precision    recall  f1-score   support\n",
      "\n",
      "           0       0.00      0.00      0.00      2006\n",
      "           1       0.50      1.00      0.66      1982\n",
      "\n",
      "    accuracy                           0.50      3988\n",
      "   macro avg       0.25      0.50      0.33      3988\n",
      "weighted avg       0.25      0.50      0.33      3988\n",
      "\n"
     ]
    },
    {
     "name": "stderr",
     "output_type": "stream",
     "text": [
      "/home/charles/anaconda3/envs/learn-env/lib/python3.8/site-packages/sklearn/metrics/_classification.py:1221: UndefinedMetricWarning: Precision and F-score are ill-defined and being set to 0.0 in labels with no predicted samples. Use `zero_division` parameter to control this behavior.\n",
      "  _warn_prf(average, modifier, msg_start, len(result))\n"
     ]
    },
    {
     "data": {
      "image/png": "[encoded data removed]",
      "text/plain": [
       "<Figure size 432x288 with 2 Axes>"
      ]
     },
     "metadata": {
      "needs_background": "light"
     },
     "output_type": "display_data"
    },
    {
     "data": {
      "image/png": "[encoded data removed]",
      "text/plain": [
       "<Figure size 864x360 with 2 Axes>"
      ]
     },
     "metadata": {
      "needs_background": "light"
     },
     "output_type": "display_data"
    }
   ],
   "source": [
    "evaluate_model(rnn_model, X_val, y_val, model_name=\"LSTM RNN\")\n",
    "\n",
    "plot_training_history(history_rnn, model_name=\"LSTM-RNN Neural Net\")"
   ]
  },
  {
   "cell_type": "markdown",
   "metadata": {},
   "source": [
    "The standard LSTM model didn't perform well. The evaluation report shows an accuracy of only 50% and an F1-score of 0.00 for the 'Malicious' class. This indicates that the model completely failed to learn any meaningful patterns from the sequence data and is likely just predicting the majority class."
   ]
  },
  {
   "cell_type": "markdown",
   "metadata": {},
   "source": [
    "## Bidirectional LSTM Model\n",
    "Given the failure of the standard LSTM, we will try a more advanced architecture: a Bidirectional LSTM (BiLSTM). A BiLSTM processes the text sequence in both forward and backward directions. This allows the model to gather context from both past and future words for any given point in the sequence, which often leads to a richer understanding of the text and better performance on NLP tasks.\"\n",
    "   ]"
   ]
  },
  {
   "cell_type": "code",
   "execution_count": 39,
   "metadata": {},
   "outputs": [
    {
     "name": "stdout",
     "output_type": "stream",
     "text": [
      "Model: \"sequential_3\"\n",
      "_________________________________________________________________\n",
      "Layer (type)                 Output Shape              Param #   \n",
      "=================================================================\n",
      "embedding_3 (Embedding)      (None, 250, 64)           640000    \n",
      "_________________________________________________________________\n",
      "bidirectional (Bidirectional (None, 128)               66048     \n",
      "_________________________________________________________________\n",
      "dense_6 (Dense)              (None, 1)                 129       \n",
      "=================================================================\n",
      "Total params: 706,177\n",
      "Trainable params: 706,177\n",
      "Non-trainable params: 0\n",
      "_________________________________________________________________\n",
      "Epoch 1/10\n",
      "499/499 [==============================] - 77s 155ms/step - loss: 0.4275 - accuracy: 0.7956 - val_loss: 0.2961 - val_accuracy: 0.8829\n",
      "Epoch 2/10\n",
      "499/499 [==============================] - 75s 151ms/step - loss: 0.2015 - accuracy: 0.9247 - val_loss: 0.2293 - val_accuracy: 0.9100\n",
      "Epoch 3/10\n",
      "499/499 [==============================] - 76s 151ms/step - loss: 0.1274 - accuracy: 0.9544 - val_loss: 0.1921 - val_accuracy: 0.9346\n",
      "Epoch 4/10\n",
      "499/499 [==============================] - 76s 153ms/step - loss: 0.0954 - accuracy: 0.9649 - val_loss: 0.1807 - val_accuracy: 0.9413\n",
      "Epoch 5/10\n",
      "499/499 [==============================] - 77s 153ms/step - loss: 0.0704 - accuracy: 0.9717 - val_loss: 0.1852 - val_accuracy: 0.9493\n",
      "Epoch 6/10\n",
      "499/499 [==============================] - 77s 154ms/step - loss: 0.0546 - accuracy: 0.9780 - val_loss: 0.1764 - val_accuracy: 0.9534\n",
      "Epoch 7/10\n",
      "499/499 [==============================] - 76s 153ms/step - loss: 0.0461 - accuracy: 0.9801 - val_loss: 0.1848 - val_accuracy: 0.9501\n",
      "Epoch 8/10\n",
      "499/499 [==============================] - 77s 154ms/step - loss: 0.0487 - accuracy: 0.9801 - val_loss: 0.1869 - val_accuracy: 0.9551\n",
      "Epoch 9/10\n",
      "499/499 [==============================] - 74s 148ms/step - loss: 0.0395 - accuracy: 0.9824 - val_loss: 0.2137 - val_accuracy: 0.9579\n",
      "Epoch 10/10\n",
      "499/499 [==============================] - 75s 150ms/step - loss: 0.0359 - accuracy: 0.9833 - val_loss: 0.1990 - val_accuracy: 0.9574\n"
     ]
    }
   ],
   "source": [
    "bilstm_model = Sequential()\n",
    "bilstm_model.add(Embedding(input_dim=MAX_NB_WORDS, output_dim=64, input_length=MAX_SEQ_LEN))\n",
    "bilstm_model.add(Bidirectional(LSTM(64)))\n",
    "bilstm_model.add(Dense(1, activation='sigmoid'))\n",
    "\n",
    "bilstm_model.compile(optimizer='adam', loss='binary_crossentropy', metrics=['accuracy'])\n",
    "\n",
    "\n",
    "bilstm_model.summary()\n",
    "\n",
    "history_bilstm = bilstm_model.fit(\n",
    "    X_train, y_train,\n",
    "    validation_data=(X_val, y_val),\n",
    "    epochs=10,\n",
    "    batch_size=32\n",
    ")\n",
    "\n",
    "\n"
   ]
  },
  {
   "cell_type": "markdown",
   "metadata": {},
   "source": [
    "#### BiLSTM Model Training and Evaluation"
   ]
  },
  {
   "cell_type": "code",
   "execution_count": 40,
   "metadata": {},
   "outputs": [
    {
     "name": "stdout",
     "output_type": "stream",
     "text": [
      " Evaluation Report for Bidirectional LSTM\n",
      "========================================\n",
      "\n",
      "📊 Classification Report:\n",
      "              precision    recall  f1-score   support\n",
      "\n",
      "           0       0.95      0.96      0.96      2006\n",
      "           1       0.96      0.95      0.96      1982\n",
      "\n",
      "    accuracy                           0.96      3988\n",
      "   macro avg       0.96      0.96      0.96      3988\n",
      "weighted avg       0.96      0.96      0.96      3988\n",
      "\n"
     ]
    },
    {
     "data": {
      "image/png": "[encoded data removed]",
      "text/plain": [
       "<Figure size 432x288 with 2 Axes>"
      ]
     },
     "metadata": {
      "needs_background": "light"
     },
     "output_type": "display_data"
    },
    {
     "data": {
      "image/png": "[encoded data removed]",
      "text/plain": [
       "<Figure size 864x360 with 2 Axes>"
      ]
     },
     "metadata": {
      "needs_background": "light"
     },
     "output_type": "display_data"
    }
   ],
   "source": [
    "evaluate_model(bilstm_model, X_val, y_val, model_name=\"Bidirectional LSTM\")\n",
    "\n",
    "plot_training_history(history_bilstm, model_name=\"Bidirectional lstm Neural Net\")"
   ]
  },
  {
   "cell_type": "markdown",
   "metadata": {},
   "source": [
    "The Bidirectional LSTM model performs exceptionally well, achieving 95% accuracy and an excellent F1-score of 0.95 for both classes. This is a significant improvement over the standard LSTM and is competitive with our tuned dense model. The confusion matrix shows a good balance between False Positives (82) and False Negatives (104). This confirms that capturing contextual information from both directions is highly beneficial for this task."
   ]
  },
  {
   "cell_type": "markdown",
   "metadata": {},
   "source": [
    " ## Model Testing on Sample Inputs\n",
    "To demonstrate the practical application of our models, we'll create a function to predict the class of a new, unseen piece of text. We will then test it on a sample sentence that is clearly malicious to see how our trained models perform.\n"
   ]
  },
  {
   "cell_type": "code",
   "execution_count": 41,
   "metadata": {},
   "outputs": [],
   "source": [
    "def predict_text(model, tokenizer, text, max_len=MAX_SEQ_LEN):\n",
    "    \"\"\"\n",
    "    Predict whether a given text is malicious or benign.\n",
    "    \"\"\"\n",
    "    seq = tokenizer.texts_to_sequences([text])\n",
    "    padded = pad_sequences(seq, maxlen=max_len)\n",
    "    pred = model.predict(padded)[0][0]\n",
    "    label = \"Malicious\" if pred >= 0.5 else \"Benign\"\n",
    "    print(f\"Prediction: {label} (Confidence: {pred:.2f})\")\n",
    "    return pred\n",
    "\n"
   ]
  },
  {
   "cell_type": "markdown",
   "metadata": {},
   "source": [
    "#### Testing the Tuned Neural Net"
   ]
  },
  {
   "cell_type": "code",
   "execution_count": 42,
   "metadata": {},
   "outputs": [
    {
     "name": "stdout",
     "output_type": "stream",
     "text": [
      "Prediction: Benign (Confidence: 0.03)\n"
     ]
    },
    {
     "data": {
      "text/plain": [
       "0.031998396"
      ]
     },
     "execution_count": 42,
     "metadata": {},
     "output_type": "execute_result"
    }
   ],
   "source": [
    "sample = \"The malware downloads additional payloads and steals user credentials.\"\n",
    "predict_text(tuned_model, tokenizer, sample)\n"
   ]
  },
  {
   "cell_type": "markdown",
   "metadata": {},
   "source": [
    "#### Testing the Baseline Model"
   ]
  },
  {
   "cell_type": "code",
   "execution_count": 43,
   "metadata": {},
   "outputs": [
    {
     "name": "stdout",
     "output_type": "stream",
     "text": [
      "Prediction: Benign (Confidence: 0.07)\n"
     ]
    },
    {
     "data": {
      "text/plain": [
       "0.071112305"
      ]
     },
     "execution_count": 43,
     "metadata": {},
     "output_type": "execute_result"
    }
   ],
   "source": [
    "sample = \"The malware downloads additional payloads and steals user credentials.\"\n",
    "predict_text(base_model, tokenizer, sample)\n"
   ]
  },
  {
   "cell_type": "code",
   "execution_count": 44,
   "metadata": {},
   "outputs": [],
   "source": [
    "#### Testing the Bidirectional LSTM Model"
   ]
  },
  {
   "cell_type": "code",
   "execution_count": 45,
   "metadata": {},
   "outputs": [
    {
     "name": "stdout",
     "output_type": "stream",
     "text": [
      "Prediction: Benign (Confidence: 0.01)\n"
     ]
    },
    {
     "data": {
      "text/plain": [
       "0.014046937"
      ]
     },
     "execution_count": 45,
     "metadata": {},
     "output_type": "execute_result"
    }
   ],
   "source": [
    "sample = \"The malware downloads additional payloads and steals user credentials.\"\n",
    "predict_text(bilstm_model, tokenizer, sample)"
   ]
  },
  {
   "cell_type": "markdown",
   "metadata": {},
   "source": [
    "### Findings from Sample Predictions\n",
    "Interestingly, all of our high-performing models (Baseline, Tuned, and BiLSTM) classify the sample text as **Benign**, despite it containing clear indicators like \\\"malware,\\\" \\\"payloads,\\\" and \\\"steals credentials.\n",
    "\n",
    "This surprising result highlights a key limitation of the model, likely stemming from the way we defined our 'benign' class. Since benign texts were those with missing labels in the original dataset, they may have contained similar cybersecurity jargon without being formally tagged as a specific threat. Consequently, the model may have learned that the mere presence of these keywords is not a strong enough signal to classify a text as malicious without other, more specific contextual cues that were present in the labeled data.\n",
    "     \n",
    "This underscores the importance of the training data's quality and the assumptions made during feature engineering. While the models show high statistical performance on the validation set, their real-world application would require further refinement and likely a more cleanly-defined set of benign examples.\""
   ]
  },
  {
   "cell_type": "code",
   "execution_count": 46,
   "metadata": {},
   "outputs": [
    {
     "name": "stdout",
     "output_type": "stream",
     "text": [
      "Model: \"sequential_4\"\n",
      "_________________________________________________________________\n",
      "Layer (type)                 Output Shape              Param #   \n",
      "=================================================================\n",
      "embedding_4 (Embedding)      (None, 250, 100)          1000000   \n",
      "_________________________________________________________________\n",
      "global_max_pooling1d (Global (None, 100)               0         \n",
      "_________________________________________________________________\n",
      "dense_7 (Dense)              (None, 64)                6464      \n",
      "_________________________________________________________________\n",
      "dropout_1 (Dropout)          (None, 64)                0         \n",
      "_________________________________________________________________\n",
      "dense_8 (Dense)              (None, 1)                 65        \n",
      "=================================================================\n",
      "Total params: 1,006,529\n",
      "Trainable params: 1,006,529\n",
      "Non-trainable params: 0\n",
      "_________________________________________________________________\n"
     ]
    }
   ],
   "source": [
    "# --- Improved Baseline Model Architecture ---\n",
    "\n",
    "# We'll use a more robust pooling layer and add dropout\n",
    "improved_base_model = Sequential()\n",
    "improved_base_model.add(Embedding(input_dim=MAX_NB_WORDS, output_dim=100, input_length=MAX_SEQ_LEN)) # Increased embedding dimension\n",
    "\n",
    "# Use GlobalMaxPooling1D instead of Flatten to capture the most important features\n",
    "improved_base_model.add(GlobalMaxPooling1D()) \n",
    "\n",
    "improved_base_model.add(Dense(64, activation='relu'))\n",
    "improved_base_model.add(Dropout(0.4)) # Add dropout for regularization\n",
    "improved_base_model.add(Dense(1, activation='sigmoid'))\n",
    "\n",
    "# Compile the model\n",
    "improved_base_model.compile(optimizer='adam', loss='binary_crossentropy', metrics=['accuracy'])\n",
    "improved_base_model.summary()"
   ]
  },
  {
   "cell_type": "code",
   "execution_count": 47,
   "metadata": {},
   "outputs": [
    {
     "name": "stdout",
     "output_type": "stream",
     "text": [
      "Epoch 1/15\n",
      "499/499 [==============================] - 6s 11ms/step - loss: 0.4788 - accuracy: 0.7723 - val_loss: 0.3009 - val_accuracy: 0.8804\n",
      "Epoch 2/15\n",
      "499/499 [==============================] - 10s 20ms/step - loss: 0.1888 - accuracy: 0.9316 - val_loss: 0.1759 - val_accuracy: 0.9338\n",
      "Epoch 3/15\n",
      "499/499 [==============================] - 6s 13ms/step - loss: 0.0961 - accuracy: 0.9696 - val_loss: 0.1373 - val_accuracy: 0.9534\n",
      "Epoch 4/15\n",
      "499/499 [==============================] - 9s 18ms/step - loss: 0.0650 - accuracy: 0.9803 - val_loss: 0.1295 - val_accuracy: 0.9559\n",
      "Epoch 5/15\n",
      "499/499 [==============================] - 8s 17ms/step - loss: 0.0546 - accuracy: 0.9825 - val_loss: 0.1226 - val_accuracy: 0.9561\n",
      "Epoch 6/15\n",
      "499/499 [==============================] - 9s 17ms/step - loss: 0.0490 - accuracy: 0.9834 - val_loss: 0.1199 - val_accuracy: 0.9604\n",
      "Epoch 7/15\n",
      "499/499 [==============================] - 8s 17ms/step - loss: 0.0461 - accuracy: 0.9833 - val_loss: 0.1258 - val_accuracy: 0.9566\n",
      "Epoch 8/15\n",
      "499/499 [==============================] - 10s 19ms/step - loss: 0.0427 - accuracy: 0.9831 - val_loss: 0.1198 - val_accuracy: 0.9589\n",
      "Epoch 9/15\n",
      "499/499 [==============================] - 11s 21ms/step - loss: 0.0387 - accuracy: 0.9840 - val_loss: 0.1198 - val_accuracy: 0.9589\n",
      "Epoch 10/15\n",
      "499/499 [==============================] - 6s 12ms/step - loss: 0.0359 - accuracy: 0.9837 - val_loss: 0.1165 - val_accuracy: 0.9599\n",
      "Epoch 11/15\n",
      "499/499 [==============================] - 5s 11ms/step - loss: 0.0325 - accuracy: 0.9837 - val_loss: 0.1258 - val_accuracy: 0.9591\n",
      "Epoch 12/15\n",
      "499/499 [==============================] - 8s 15ms/step - loss: 0.0312 - accuracy: 0.9854 - val_loss: 0.1222 - val_accuracy: 0.9604\n",
      "Epoch 13/15\n",
      "499/499 [==============================] - 9s 19ms/step - loss: 0.0295 - accuracy: 0.9850 - val_loss: 0.1292 - val_accuracy: 0.9591\n"
     ]
    }
   ],
   "source": [
    "# --- Train the Improved Baseline Model ---\n",
    "\n",
    "# Callbacks to stop training early if performance plateaus and save the best model\n",
    "early_stop_base = EarlyStopping(monitor='val_loss', patience=3, restore_best_weights=True)\n",
    "checkpoint_base = ModelCheckpoint('improved_base_model.keras', save_best_only=True, monitor='val_loss')\n",
    "\n",
    "history_base_improved = improved_base_model.fit(\n",
    "    X_train, y_train,\n",
    "    validation_data=(X_val, y_val),\n",
    "    # Allow more epochs, EarlyStopping will handle the rest\n",
    "    epochs=15,   \n",
    "    batch_size=32,\n",
    "    callbacks=[early_stop_base, checkpoint_base]\n",
    ")"
   ]
  },
  {
   "cell_type": "code",
   "execution_count": 48,
   "metadata": {},
   "outputs": [
    {
     "data": {
      "image/png": "[encoded data removed]",
      "text/plain": [
       "<Figure size 864x360 with 2 Axes>"
      ]
     },
     "metadata": {
      "needs_background": "light"
     },
     "output_type": "display_data"
    },
    {
     "name": "stdout",
     "output_type": "stream",
     "text": [
      " Evaluation Report for Improved Baseline Neural Net\n",
      "========================================\n",
      "\n",
      "📊 Classification Report:\n",
      "              precision    recall  f1-score   support\n",
      "\n",
      "           0       0.96      0.96      0.96      2006\n",
      "           1       0.96      0.96      0.96      1982\n",
      "\n",
      "    accuracy                           0.96      3988\n",
      "   macro avg       0.96      0.96      0.96      3988\n",
      "weighted avg       0.96      0.96      0.96      3988\n",
      "\n"
     ]
    },
    {
     "data": {
      "image/png": "[encoded data removed]",
      "text/plain": [
       "<Figure size 432x288 with 2 Axes>"
      ]
     },
     "metadata": {
      "needs_background": "light"
     },
     "output_type": "display_data"
    }
   ],
   "source": [
    "# --- Evaluate the Improved Baseline Model ---\n",
    "\n",
    "# Plot training history\n",
    "plot_training_history(history_base_improved, model_name=\"Improved Baseline Neural Net\")\n",
    "\n",
    "# Evaluate on validation data\n",
    "evaluate_model(improved_base_model, X_val, y_val, model_name=\"Improved Baseline Neural Net\")"
   ]
  },
  {
   "cell_type": "code",
   "execution_count": 49,
   "metadata": {},
   "outputs": [
    {
     "name": "stdout",
     "output_type": "stream",
     "text": [
      "Model: \"sequential_5\"\n",
      "_________________________________________________________________\n",
      "Layer (type)                 Output Shape              Param #   \n",
      "=================================================================\n",
      "embedding_5 (Embedding)      (None, 250, 128)          1280000   \n",
      "_________________________________________________________________\n",
      "bidirectional_1 (Bidirection (None, 256)               263168    \n",
      "_________________________________________________________________\n",
      "dense_9 (Dense)              (None, 64)                16448     \n",
      "_________________________________________________________________\n",
      "dropout_2 (Dropout)          (None, 64)                0         \n",
      "_________________________________________________________________\n",
      "dense_10 (Dense)             (None, 1)                 65        \n",
      "=================================================================\n",
      "Total params: 1,559,681\n",
      "Trainable params: 1,559,681\n",
      "Non-trainable params: 0\n",
      "_________________________________________________________________\n"
     ]
    }
   ],
   "source": [
    "# --- Bidirectional LSTM Model Architecture ---\n",
    "\n",
    "bilstm_model = Sequential()\n",
    "bilstm_model.add(Embedding(input_dim=MAX_NB_WORDS, output_dim=128, input_length=MAX_SEQ_LEN))\n",
    "\n",
    "# A Bidirectional LSTM layer captures context from both directions\n",
    "bilstm_model.add(Bidirectional(LSTM(128, dropout=0.3, recurrent_dropout=0.3)))\n",
    "\n",
    "bilstm_model.add(Dense(64, activation='relu'))\n",
    "bilstm_model.add(Dropout(0.5))\n",
    "bilstm_model.add(Dense(1, activation='sigmoid'))\n",
    "\n",
    "# Use Adam optimizer with a lower learning rate for stability\n",
    "optimizer = Adam(learning_rate=0.0001)\n",
    "\n",
    "bilstm_model.compile(optimizer=optimizer, loss='binary_crossentropy', metrics=['accuracy'])\n",
    "bilstm_model.summary()"
   ]
  },
  {
   "cell_type": "code",
   "execution_count": null,
   "metadata": {},
   "outputs": [
    {
     "name": "stdout",
     "output_type": "stream",
     "text": [
      "Epoch 1/15\n",
      "499/499 [==============================] - 289s 580ms/step - loss: 0.6195 - accuracy: 0.6625 - val_loss: 0.5426 - val_accuracy: 0.7219\n",
      "Epoch 2/15\n",
      "499/499 [==============================] - 297s 595ms/step - loss: 0.4500 - accuracy: 0.7990 - val_loss: 0.3717 - val_accuracy: 0.8395\n",
      "Epoch 3/15\n",
      "499/499 [==============================] - 297s 595ms/step - loss: 0.3070 - accuracy: 0.8776 - val_loss: 0.3083 - val_accuracy: 0.8709\n",
      "Epoch 4/15\n",
      "499/499 [==============================] - 296s 592ms/step - loss: 0.2318 - accuracy: 0.9125 - val_loss: 0.2672 - val_accuracy: 0.8977\n",
      "Epoch 5/15\n",
      "499/499 [==============================] - 294s 589ms/step - loss: 0.1877 - accuracy: 0.9310 - val_loss: 0.2503 - val_accuracy: 0.9030\n",
      "Epoch 6/15\n",
      "499/499 [==============================] - 294s 590ms/step - loss: 0.1561 - accuracy: 0.9441 - val_loss: 0.2296 - val_accuracy: 0.9157\n",
      "Epoch 7/15\n",
      "499/499 [==============================] - 289s 579ms/step - loss: 0.1332 - accuracy: 0.9539 - val_loss: 0.2212 - val_accuracy: 0.9280\n",
      "Epoch 8/15\n",
      "499/499 [==============================] - 315s 632ms/step - loss: 0.1172 - accuracy: 0.9607 - val_loss: 0.2137 - val_accuracy: 0.9305\n",
      "Epoch 9/15\n",
      "499/499 [==============================] - 367s 736ms/step - loss: 0.1059 - accuracy: 0.9634 - val_loss: 0.1999 - val_accuracy: 0.9305\n",
      "Epoch 10/15\n",
      "499/499 [==============================] - 407s 815ms/step - loss: 0.0948 - accuracy: 0.9683 - val_loss: 0.2052 - val_accuracy: 0.9373\n",
      "Epoch 11/15\n",
      "499/499 [==============================] - 372s 746ms/step - loss: 0.0920 - accuracy: 0.9697 - val_loss: 0.1937 - val_accuracy: 0.9441\n",
      "Epoch 12/15\n",
      "463/499 [==========================>...] - ETA: 24s - loss: 0.0838 - accuracy: 0.9711"
     ]
    }
   ],
   "source": [
    "# --- Train the BiLSTM Model ---\n",
    "\n",
    "# Callbacks\n",
    "early_stop_bilstm = EarlyStopping(monitor='val_loss', patience=3, restore_best_weights=True)\n",
    "checkpoint_bilstm = ModelCheckpoint('bilstm_model.keras', save_best_only=True, monitor='val_loss')\n",
    "\n",
    "history_bilstm = bilstm_model.fit(\n",
    "    X_train, y_train,\n",
    "    validation_data=(X_val, y_val),\n",
    "    epochs=15,\n",
    "    batch_size=32,\n",
    "    callbacks=[early_stop_bilstm, checkpoint_bilstm]\n",
    ")"
   ]
  },
  {
   "cell_type": "code",
   "execution_count": null,
   "metadata": {},
   "outputs": [],
   "source": [
    "# --- Evaluate the BiLSTM Model ---\n",
    "\n",
    "# Plot training history\n",
    "plot_training_history(history_bilstm, model_name=\"Bidirectional LSTM Net\")\n",
    "\n",
    "# Evaluate on validation data\n",
    "evaluate_model(bilstm_model, X_val, y_val, model_name=\"Bidirectional LSTM Net\")"
   ]
  },
  {
   "cell_type": "code",
   "execution_count": null,
   "metadata": {},
   "outputs": [],
   "source": [
    "def predict_text(model, tokenizer, text, max_len=MAX_SEQ_LEN):\n",
    "    \"\"\"\n",
    "    Predict whether a given text is malicious or benign.\n",
    "    \"\"\"\n",
    "    # Note: The text sample needs to be preprocessed just like the training data.\n",
    "    # The original notebook missed this step, which is crucial for accurate prediction.\n",
    "    clean_text = preprocess_text(text)\n",
    "    \n",
    "    seq = tokenizer.texts_to_sequences([clean_text])\n",
    "    padded = pad_sequences(seq, maxlen=max_len, padding='post', truncating='post')\n",
    "    \n",
    "    # Predict the probability\n",
    "    pred_prob = model.predict(padded)[0][0]\n",
    "    \n",
    "    # Determine the label based on the 0.5 threshold\n",
    "    label = \"Malicious\" if pred_prob >= 0.5 else \"Benign\"\n",
    "    \n",
    "    print(f\"Prediction: {label} (Confidence: {pred_prob:.2f})\")\n",
    "    return pred_prob"
   ]
  },
  {
   "cell_type": "code",
   "execution_count": null,
   "metadata": {},
   "outputs": [],
   "source": [
    "# Sample malicious text\n",
    "sample = \"The malware downloads additional payloads and steals user credentials.\"\n",
    "\n",
    "print(\"--- Testing Improved Baseline Model ---\")\n",
    "predict_text(improved_base_model, tokenizer, sample)"
   ]
  },
  {
   "cell_type": "code",
   "execution_count": null,
   "metadata": {},
   "outputs": [],
   "source": [
    "print(\"\\n--- Testing Bidirectional LSTM Model ---\")\n",
    "predict_text(bilstm_model, tokenizer, sample)"
   ]
  },
  {
   "cell_type": "code",
   "execution_count": null,
   "metadata": {},
   "outputs": [],
   "source": []
  }
 ],
 "metadata": {
  "kernelspec": {
   "display_name": "Python 3",
   "language": "python",
   "name": "python3"
  },
  "language_info": {
   "codemirror_mode": {
    "name": "ipython",
    "version": 3
   },
   "file_extension": ".py",
   "mimetype": "text/x-python",
   "name": "python",
   "nbconvert_exporter": "python",
   "pygments_lexer": "ipython3",
   "version": "3.8.5"
  }
 },
 "nbformat": 4,
 "nbformat_minor": 5
}
